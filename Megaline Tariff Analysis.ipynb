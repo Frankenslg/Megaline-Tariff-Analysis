{
 "cells": [
  {
   "cell_type": "markdown",
   "metadata": {},
   "source": [
    "# ¡Hola Francisco!\n",
    "\n",
    "Mi nombre es Ezequiel Ferrario, soy code reviewer en Tripleten y tengo el agrado de revisar el proyecto que entregaste.\n",
    "\n",
    "Para simular la dinámica de un ambiente de trabajo, si veo algún error, en primer instancia solo los señalaré, dándote la oportunidad de encontrarlos y corregirlos por tu cuenta. En un trabajo real, el líder de tu equipo hará una dinámica similar. En caso de que no puedas resolver la tarea, te daré una información más precisa en la próxima revisión.\n",
    "\n",
    "Encontrarás mis comentarios más abajo - **por favor, no los muevas, no los modifiques ni los borres**.\n",
    "\n",
    "¿Cómo lo voy a hacer? Voy a leer detenidamente cada una de las implementaciones que has llevado a cabo para cumplir con lo solicitado. Verás los comentarios de esta forma:\n",
    "\n",
    "<div class=\"alert alert-block alert-success\">\n",
    "<b>Comentario del revisor</b> <a class=\"tocSkip\"></a>\n",
    "\n",
    "Si todo está perfecto.\n",
    "</div>\n",
    "\n",
    "\n",
    "<div class=\"alert alert-block alert-warning\">\n",
    "<b>Comentario del revisor</b> <a class=\"tocSkip\"></a>\n",
    "\n",
    "Si tu código está bien pero se puede mejorar o hay algún detalle que le hace falta. Se aceptan uno o dos comentarios de este tipo en el borrador, pero si hay más, deberá hacer las correcciones. Es como una tarea de prueba al solicitar un trabajo: muchos pequeños errores pueden hacer que un candidato sea rechazado.\n",
    "</div>\n",
    "\n",
    "<div class=\"alert alert-block alert-danger\">\n",
    "\n",
    "<b>Comentario del revisor</b> <a class=\"tocSkip\"></a>\n",
    "\n",
    "Si de pronto hace falta algo o existe algún problema con tu código o conclusiones.\n",
    "</div>\n",
    "\n",
    "Puedes responderme de esta forma:\n",
    "\n",
    "<div class=\"alert alert-block alert-info\">\n",
    "<b>Respuesta del estudiante</b> <a class=\"tocSkip\"></a>\n",
    "\n",
    "Hola, muchas gracias por tus comentarios y la revisión.\n",
    "</div>\n",
    "\n",
    "¡Empecemos!"
   ]
  },
  {
   "cell_type": "markdown",
   "metadata": {},
   "source": [
    "<div class=\"alert alert-block alert-danger\">\n",
    "\n",
    "<b>Comentario general #1</b> <a class=\"tocSkip\"></a>\n",
    "\n",
    "Francisco, hiciste un buen trabajo con este proyecto.\n",
    "\n",
    "Donde destaco tus analisis de como estaban conformados los datasets y sus probables problemas. A su vez en general entendiste que hacer a nivel codigo en la extraccion de cada dataset.\n",
    "\n",
    "Las correcciones se centran en el punto fundamental de este trabajo que es unir los datasets para que al tener el dataset final, podamos realizar el analisis con todos los datos disponibles.\n",
    "\n",
    "Asi, estoy disponible por cualquier consulta.\n",
    "\n",
    "Espero tus correcciones, saludos.</div>\n",
    "\n",
    "<div class=\"alert alert-block alert-danger\">\n",
    "\n",
    "<b>Comentario general #2</b> <a class=\"tocSkip\"></a>\n",
    "\n",
    "Francisco, las correcciones estan bien y ya casi finalizamos la parte de la creacion del  dataset final que una vez sobrepasado solo restaran detalles para finalizar.\n",
    "    \n",
    "Asi, te deje las correcciones pertinentes con una guia para hacerlos. Si tenes alguna podes dejarmela aqui o consultarlo con tu tutor.\n",
    "\n",
    "Quedo a la espera de la correccion, saludos.</div>\n",
    "\n",
    "<div class=\"alert alert-block alert-danger\">\n",
    "\n",
    "<b>Comentario general #3</b> <a class=\"tocSkip\"></a>\n",
    "\n",
    "Francisco, con las correcciones se emprolijo el trabajo y ya estamos en la puerta de finalizar el dataset final. Recorda que el error que tenes de plan se debe a que no realizas el merge de la columna plan al dataset final podes hacerlo luego de obtenido el mismo.\n",
    "    \n",
    "    \n",
    "Saludos.</div>\n",
    "\n",
    "<div class=\"alert alert-block alert-danger\">\n",
    "\n",
    "<b>Comentario general #4</b> <a class=\"tocSkip\"></a>\n",
    "\n",
    "Francisco, estan bien las correcciones. Se sumo una al merged_data donde eliminaste una variable que no te comente, pero no pasa nada porque lo podes volver a calcular y estaria genial. Ahora te estaria faltando la parte de las llamadas.\n",
    "    \n",
    "    \n",
    "  Para el calculo de ingreso te deje una guia aun mas extensa, de igual manera te contactare con un tutor por si tenes alguna duda.\n",
    "    \n",
    "Saludos.</div>\n",
    "\n",
    "<div class=\"alert alert-block alert-danger\">\n",
    "\n",
    "<b>Comentario general #5</b> <a class=\"tocSkip\"></a>\n",
    "\n",
    "Francisco, avanzaste perfecto con el dataset final y tambien con los ingresosos por lo que resta la parte estadisticas y de graficos por corregir.\n",
    "    \n",
    "  \n",
    " Sobre esta existe un problema y es que no esta corriendo el codigo, pasa en todos los graficos. Recorda siempre ejecutar todo el notebook antes de enviarlo, de esta forma constataras que no existen errores.\n",
    "    \n",
    " \n",
    "Quedo a la espera de la correccion, saludos..</div>\n",
    "\n",
    "\n",
    "<div class=\"alert alert-block alert-success\">\n",
    "\n",
    "<b>Comentario general #6</b> <a class=\"tocSkip\"></a>\n",
    "\n",
    "Francisco, has realizado unas excelentes correcciones.\n",
    "\n",
    "Como te dije en esa seccion me encanto leer tus conclusiones de los graficos y como entendiste cada punto.\n",
    "\n",
    "A su vez, los graficos fueron excelentes y muy bien llevados.\n",
    "\n",
    "Iteracion a iteracion supiste resolver cada cosa y asi este proyecto te quedo muy bien.\n",
    "\n",
    "Dicho esto, el mismo pasa a estar **aprobado**, espero que sigas con ese esmero.\n",
    "\n",
    "Exitos en lo que viene, saludos.</div>"
   ]
  },
  {
   "cell_type": "markdown",
   "metadata": {},
   "source": [
    "<div class=\"alert alert-block alert-danger\">\n",
    "\n",
    "<b>Comentario del revisor</b> <a class=\"tocSkip\"></a>\n",
    "\n",
    "Crea una tabla de contenidos que este linkeada a las secciones (al clickear debe llevarnos a esa seccion) de esta menera es mas facil desplazarse.\n",
    "\n",
    "Como consejo, si realizas bien todas las secciones (con su respectivo #) podes generarlo automáticamente desde jupyter lab. Para hacerlo, en la pestaña de herramientas de jupyter lab clickeas en el **botón de los puntos y barras**  (Table of contents) te generara automáticamente una tabla de contenidos linkeable y estética. A la **derecha** del botón \"Validate\"\n",
    "</div>\n",
    "\n",
    "<div class=\"alert alert-block alert-danger\">\n",
    "\n",
    "<b>Comentario del revisor #2</b> <a class=\"tocSkip\"></a>\n",
    "\n",
    "Se mantiene la correccion.\n",
    "</div>\n",
    "\n",
    "<div class=\"alert alert-block alert-danger\">\n",
    "\n",
    "<b>Comentario del revisor #3</b> <a class=\"tocSkip\"></a>\n",
    "\n",
    "Se mantiene la correccion, general la tabla de contenidos, al hacerlo **guarda** el notebook y luego envialo.</div>\n",
    "\n",
    "<div class=\"alert alert-block alert-success\">\n",
    "\n",
    "<b>Comentario del revisor #4</b> <a class=\"tocSkip\"></a>\n",
    "\n",
    "Corregido. Muy bien.</div>"
   ]
  },
  {
   "cell_type": "markdown",
   "metadata": {
    "id": "3rYiDeEH0q0f"
   },
   "source": [
    "# ¿Cuál es la mejor tarifa?\n",
    "\n",
    "Trabajas como analista para el operador de telecomunicaciones Megaline. La empresa ofrece a sus clientes dos tarifas de prepago, Surf y Ultimate. El departamento comercial quiere saber cuál de las tarifas genera más ingresos para poder ajustar el presupuesto de publicidad.\n",
    "\n",
    "Vas a realizar un análisis preliminar de las tarifas basado en una selección de clientes relativamente pequeña. Tendrás los datos de 500 clientes de Megaline: quiénes son los clientes, de dónde son, qué tarifa usan, así como la cantidad de llamadas que hicieron y los mensajes de texto que enviaron en 2018. Tu trabajo es analizar el comportamiento de los clientes y determinar qué tarifa de prepago genera más ingresos."
   ]
  },
  {
   "cell_type": "markdown",
   "metadata": {
    "id": "MQi4IPy70q0y"
   },
   "source": [
    "## Inicialización"
   ]
  },
  {
   "cell_type": "code",
   "execution_count": 2,
   "metadata": {
    "id": "MtYIuBxu0q0z"
   },
   "outputs": [],
   "source": [
    "# Cargar todas las librerías\n",
    "import pandas as pd\n",
    "import numpy as np\n",
    "import matplotlib.pyplot as plt\n",
    "import seaborn as sns\n",
    "from scipy import stats"
   ]
  },
  {
   "cell_type": "markdown",
   "metadata": {
    "id": "4ysWWC5i0q00"
   },
   "source": [
    "## Cargar datos"
   ]
  },
  {
   "cell_type": "code",
   "execution_count": 3,
   "metadata": {
    "id": "CCqPW7rS0q01"
   },
   "outputs": [],
   "source": [
    "# Carga los archivos de datos en diferentes DataFrames\n",
    "users = pd.read_csv('/datasets/megaline_users.csv')\n",
    "calls = pd.read_csv('/datasets/megaline_calls.csv')\n",
    "messages = pd.read_csv('/datasets/megaline_messages.csv')\n",
    "internet = pd.read_csv('/datasets/megaline_internet.csv')\n",
    "plans = pd.read_csv('/datasets/megaline_plans.csv')"
   ]
  },
  {
   "cell_type": "markdown",
   "metadata": {
    "id": "69qqoJ3r0q01"
   },
   "source": [
    "## Preparar los datos"
   ]
  },
  {
   "cell_type": "markdown",
   "metadata": {
    "id": "ohBhimvH0q01"
   },
   "source": [
    "## Tarifas"
   ]
  },
  {
   "cell_type": "code",
   "execution_count": 4,
   "metadata": {
    "id": "GptqP3Q40q02"
   },
   "outputs": [
    {
     "name": "stdout",
     "output_type": "stream",
     "text": [
      "<class 'pandas.core.frame.DataFrame'>\n",
      "RangeIndex: 2 entries, 0 to 1\n",
      "Data columns (total 8 columns):\n",
      " #   Column                 Non-Null Count  Dtype  \n",
      "---  ------                 --------------  -----  \n",
      " 0   messages_included      2 non-null      int64  \n",
      " 1   mb_per_month_included  2 non-null      int64  \n",
      " 2   minutes_included       2 non-null      int64  \n",
      " 3   usd_monthly_pay        2 non-null      int64  \n",
      " 4   usd_per_gb             2 non-null      int64  \n",
      " 5   usd_per_message        2 non-null      float64\n",
      " 6   usd_per_minute         2 non-null      float64\n",
      " 7   plan_name              2 non-null      object \n",
      "dtypes: float64(2), int64(5), object(1)\n",
      "memory usage: 256.0+ bytes\n",
      "None\n"
     ]
    }
   ],
   "source": [
    "# Imprime la información general/resumida sobre el DataFrame de las tarifas\n",
    "print(plans.info())\n"
   ]
  },
  {
   "cell_type": "code",
   "execution_count": 5,
   "metadata": {
    "id": "64xzjwL70q02"
   },
   "outputs": [
    {
     "name": "stdout",
     "output_type": "stream",
     "text": [
      "   messages_included  mb_per_month_included  minutes_included  \\\n",
      "0                 50                  15360               500   \n",
      "1               1000                  30720              3000   \n",
      "\n",
      "   usd_monthly_pay  usd_per_gb  usd_per_message  usd_per_minute plan_name  \n",
      "0               20          10             0.03            0.03      surf  \n",
      "1               70           7             0.01            0.01  ultimate  \n"
     ]
    }
   ],
   "source": [
    "# Imprime una muestra de los datos para las tarifas\n",
    "\n",
    "print(plans.head())"
   ]
  },
  {
   "cell_type": "markdown",
   "metadata": {
    "id": "mEc_3_hs0q02"
   },
   "source": [
    "En la información general del DataFrame de las tarifas, observamos que hay dos entradas y ocho columnas. Las columnas incluyen información sobre los mensajes, los megabytes y los minutos incluidos en cada plan, así como los precios mensuales y los costos adicionales por mensaje, megabyte y minuto.\n",
    "\n",
    "En la muestra de datos para las tarifas, podemos ver los detalles de las dos tarifas: Surf y Ultimate. La columna plan_name identifica el nombre de cada plan, mientras que las demás columnas proporcionan detalles específicos sobre cada plan, como la cantidad de mensajes, megabytes y minutos incluidos, así como los precios mensuales y los costos adicionales por mensaje, megabyte y minuto.\n",
    "\n",
    "En cuanto a los problemas que podrían necesitar investigación y cambios adicionales:\n",
    "\n",
    "Los nombres de las columnas (usd_monthly_pay, usd_per_gb, usd_per_message, usd_per_minute) podrían simplificarse para ser más consistentes y claros.\n",
    "La columna plan_name podría convertirse en una variable categórica para facilitar el análisis.\n",
    "No parece haber datos ausentes en este DataFrame."
   ]
  },
  {
   "cell_type": "markdown",
   "metadata": {},
   "source": [
    "<div class=\"alert alert-block alert-success\">\n",
    "\n",
    "<b>Comentario del revisor</b> <a class=\"tocSkip\"></a>\n",
    "\n",
    "Excelentes observaciones.</div>"
   ]
  },
  {
   "cell_type": "markdown",
   "metadata": {
    "id": "R3C05i1l0q03"
   },
   "source": [
    "## Corregir datos"
   ]
  },
  {
   "cell_type": "code",
   "execution_count": 6,
   "metadata": {
    "id": "Y7SVmjGn0q03"
   },
   "outputs": [
    {
     "name": "stdout",
     "output_type": "stream",
     "text": [
      "<class 'pandas.core.frame.DataFrame'>\n",
      "RangeIndex: 2 entries, 0 to 1\n",
      "Data columns (total 8 columns):\n",
      " #   Column                      Non-Null Count  Dtype   \n",
      "---  ------                      --------------  -----   \n",
      " 0   messages_included           2 non-null      int64   \n",
      " 1   mb_per_month_included       2 non-null      int64   \n",
      " 2   minutes_included            2 non-null      int64   \n",
      " 3   monthly_fee_usd             2 non-null      int64   \n",
      " 4   additional_gb_fee_usd       2 non-null      int64   \n",
      " 5   additional_message_fee_usd  2 non-null      float64 \n",
      " 6   additional_minute_fee_usd   2 non-null      float64 \n",
      " 7   plan_name                   2 non-null      category\n",
      "dtypes: category(1), float64(2), int64(5)\n",
      "memory usage: 366.0 bytes\n",
      "None\n",
      "   messages_included  mb_per_month_included  minutes_included  \\\n",
      "1               1000                  30720              3000   \n",
      "\n",
      "   monthly_fee_usd  additional_gb_fee_usd  additional_message_fee_usd  \\\n",
      "1               70                      7                        0.01   \n",
      "\n",
      "   additional_minute_fee_usd plan_name  \n",
      "1                       0.01  ultimate  \n"
     ]
    }
   ],
   "source": [
    "plans.rename(columns={\n",
    "    'usd_monthly_pay': 'monthly_fee_usd',\n",
    "    'usd_per_gb': 'additional_gb_fee_usd',\n",
    "    'usd_per_message': 'additional_message_fee_usd',\n",
    "    'usd_per_minute': 'additional_minute_fee_usd',\n",
    "}, inplace=True)\n",
    "\n",
    "# Convertir la columna plan_name en una variable categórica\n",
    "plans['plan_name'] = plans['plan_name'].astype('category')\n",
    "\n",
    "# Verificar los cambios\n",
    "print(plans.info())\n",
    "print(plans.sample())"
   ]
  },
  {
   "cell_type": "markdown",
   "metadata": {
    "id": "LJir7bml0q03"
   },
   "source": [
    "## Enriquecer los datos"
   ]
  },
  {
   "cell_type": "code",
   "execution_count": 7,
   "metadata": {
    "id": "gfcIEuXV0q04"
   },
   "outputs": [
    {
     "name": "stdout",
     "output_type": "stream",
     "text": [
      "   messages_included  mb_per_month_included  minutes_included  \\\n",
      "0                 50                   15.0               500   \n",
      "1               1000                   30.0              3000   \n",
      "\n",
      "   monthly_fee_usd  additional_gb_fee_usd  additional_message_fee_usd  \\\n",
      "0               20                     10                        0.03   \n",
      "1               70                      7                        0.01   \n",
      "\n",
      "   additional_minute_fee_usd plan_name  total_expected_cost_usd  \n",
      "0                       0.03      surf                    186.5  \n",
      "1                       0.01  ultimate                    320.0  \n"
     ]
    }
   ],
   "source": [
    "# Convertir los megabytes a gigabytes\n",
    "plans['mb_per_month_included'] = plans['mb_per_month_included'] / 1024\n",
    "\n",
    "# Calcular el costo total esperado para cada cliente en función de su uso real\n",
    "plans['total_expected_cost_usd'] = plans['monthly_fee_usd'] + \\\n",
    "                                    (plans['additional_minute_fee_usd'] * plans['minutes_included']) + \\\n",
    "                                    (plans['additional_message_fee_usd'] * plans['messages_included']) + \\\n",
    "                                    (plans['additional_gb_fee_usd'] * plans['mb_per_month_included'])\n",
    "\n",
    "# Verificar los cambios\n",
    "print(plans.head())"
   ]
  },
  {
   "cell_type": "markdown",
   "metadata": {},
   "source": [
    "<div class=\"alert alert-block alert-danger\">\n",
    "\n",
    "<b>Comentario del revisor</b> <a class=\"tocSkip\"></a>\n",
    "\n",
    "Recorda que nuestro cliente utiliza la medida en gb, transforma los mb a gb (recorda la correcta conversion) de la columna `mb_per_month_included`.</div>\n",
    "\n",
    "<div class=\"alert alert-block alert-success\">\n",
    "\n",
    "<b>Comentario del revisor #2</b> <a class=\"tocSkip\"></a>\n",
    "\n",
    "Corregido.</div>"
   ]
  },
  {
   "cell_type": "markdown",
   "metadata": {
    "id": "1n2X6WXf0q04"
   },
   "source": [
    "## Usuarios/as"
   ]
  },
  {
   "cell_type": "code",
   "execution_count": 8,
   "metadata": {
    "id": "2NgjWFqx0q05"
   },
   "outputs": [
    {
     "name": "stdout",
     "output_type": "stream",
     "text": [
      "<class 'pandas.core.frame.DataFrame'>\n",
      "RangeIndex: 500 entries, 0 to 499\n",
      "Data columns (total 8 columns):\n",
      " #   Column      Non-Null Count  Dtype \n",
      "---  ------      --------------  ----- \n",
      " 0   user_id     500 non-null    int64 \n",
      " 1   first_name  500 non-null    object\n",
      " 2   last_name   500 non-null    object\n",
      " 3   age         500 non-null    int64 \n",
      " 4   city        500 non-null    object\n",
      " 5   reg_date    500 non-null    object\n",
      " 6   plan        500 non-null    object\n",
      " 7   churn_date  34 non-null     object\n",
      "dtypes: int64(2), object(6)\n",
      "memory usage: 31.4+ KB\n",
      "None\n"
     ]
    },
    {
     "data": {
      "text/html": [
       "<div>\n",
       "<style scoped>\n",
       "    .dataframe tbody tr th:only-of-type {\n",
       "        vertical-align: middle;\n",
       "    }\n",
       "\n",
       "    .dataframe tbody tr th {\n",
       "        vertical-align: top;\n",
       "    }\n",
       "\n",
       "    .dataframe thead th {\n",
       "        text-align: right;\n",
       "    }\n",
       "</style>\n",
       "<table border=\"1\" class=\"dataframe\">\n",
       "  <thead>\n",
       "    <tr style=\"text-align: right;\">\n",
       "      <th></th>\n",
       "      <th>user_id</th>\n",
       "      <th>age</th>\n",
       "    </tr>\n",
       "  </thead>\n",
       "  <tbody>\n",
       "    <tr>\n",
       "      <th>count</th>\n",
       "      <td>500.000000</td>\n",
       "      <td>500.000000</td>\n",
       "    </tr>\n",
       "    <tr>\n",
       "      <th>mean</th>\n",
       "      <td>1249.500000</td>\n",
       "      <td>45.486000</td>\n",
       "    </tr>\n",
       "    <tr>\n",
       "      <th>std</th>\n",
       "      <td>144.481833</td>\n",
       "      <td>16.972269</td>\n",
       "    </tr>\n",
       "    <tr>\n",
       "      <th>min</th>\n",
       "      <td>1000.000000</td>\n",
       "      <td>18.000000</td>\n",
       "    </tr>\n",
       "    <tr>\n",
       "      <th>25%</th>\n",
       "      <td>1124.750000</td>\n",
       "      <td>30.000000</td>\n",
       "    </tr>\n",
       "    <tr>\n",
       "      <th>50%</th>\n",
       "      <td>1249.500000</td>\n",
       "      <td>46.000000</td>\n",
       "    </tr>\n",
       "    <tr>\n",
       "      <th>75%</th>\n",
       "      <td>1374.250000</td>\n",
       "      <td>61.000000</td>\n",
       "    </tr>\n",
       "    <tr>\n",
       "      <th>max</th>\n",
       "      <td>1499.000000</td>\n",
       "      <td>75.000000</td>\n",
       "    </tr>\n",
       "  </tbody>\n",
       "</table>\n",
       "</div>"
      ],
      "text/plain": [
       "           user_id         age\n",
       "count   500.000000  500.000000\n",
       "mean   1249.500000   45.486000\n",
       "std     144.481833   16.972269\n",
       "min    1000.000000   18.000000\n",
       "25%    1124.750000   30.000000\n",
       "50%    1249.500000   46.000000\n",
       "75%    1374.250000   61.000000\n",
       "max    1499.000000   75.000000"
      ]
     },
     "execution_count": 8,
     "metadata": {},
     "output_type": "execute_result"
    }
   ],
   "source": [
    "# Imprime la información general/resumida sobre el DataFrame de usuarios\n",
    "\n",
    "print(users.info())\n",
    "users.describe()"
   ]
  },
  {
   "cell_type": "code",
   "execution_count": 9,
   "metadata": {
    "id": "1IN1L9uh0q05"
   },
   "outputs": [
    {
     "name": "stdout",
     "output_type": "stream",
     "text": [
      "   user_id first_name  last_name  age                                   city  \\\n",
      "0     1000   Anamaria      Bauer   45  Atlanta-Sandy Springs-Roswell, GA MSA   \n",
      "1     1001     Mickey  Wilkerson   28        Seattle-Tacoma-Bellevue, WA MSA   \n",
      "2     1002     Carlee    Hoffman   36   Las Vegas-Henderson-Paradise, NV MSA   \n",
      "3     1003   Reynaldo    Jenkins   52                          Tulsa, OK MSA   \n",
      "4     1004    Leonila   Thompson   40        Seattle-Tacoma-Bellevue, WA MSA   \n",
      "\n",
      "     reg_date      plan churn_date  \n",
      "0  2018-12-24  ultimate        NaN  \n",
      "1  2018-08-13      surf        NaN  \n",
      "2  2018-10-21      surf        NaN  \n",
      "3  2018-01-28      surf        NaN  \n",
      "4  2018-05-23      surf        NaN  \n",
      "No se encontraron duplicados\n"
     ]
    }
   ],
   "source": [
    "# Imprime una muestra de datos para usuarios\n",
    "\n",
    "print(users.head())\n",
    "duplicates = users.duplicated().any()\n",
    "\n",
    "if duplicates:\n",
    "    print(\"Se encontraron duplicados\")\n",
    "else:\n",
    "    print(\"No se encontraron duplicados\")"
   ]
  },
  {
   "cell_type": "markdown",
   "metadata": {},
   "source": [
    "<div class=\"alert alert-block alert-danger\">\n",
    "\n",
    "<b>Comentario del revisor</b> <a class=\"tocSkip\"></a>\n",
    "\n",
    "Verifica que no existen duplicados.</div>\n",
    "\n",
    "<div class=\"alert alert-block alert-danger\">\n",
    "\n",
    "<b>Comentario del revisor</b> <a class=\"tocSkip\"></a>\n",
    "\n",
    "Recorda utilizar el metodo describe() para una exploracion rapida inicial de aquellas variables numericas. Siempre es necesario realizarlo ya que de forma rapida tenemos un panorama muy bueno de que nos espera e incluso encontraremos inconsistencias si existiencen.\n",
    "Describi al respecto lo que ves. </div>\n",
    "\n",
    "<div class=\"alert alert-block alert-success\">\n",
    "\n",
    "<b>Comentario del revisor #2</b> <a class=\"tocSkip\"></a>\n",
    "\n",
    "Corregido. Muy bien.</div>"
   ]
  },
  {
   "cell_type": "markdown",
   "metadata": {
    "id": "dCZoUq4f0q06"
   },
   "source": [
    "\n",
    "En la información general del DataFrame de usuarios, podemos observar lo siguiente:\n",
    "\n",
    "El DataFrame contiene 500 filas y 8 columnas.\n",
    "No hay valores nulos en las columnas 'user_id', 'first_name', 'last_name', 'age', 'city' y 'plan'.\n",
    "La columna 'churn_date' tiene 34 valores no nulos, lo que indica que hay usuarios que han dejado de usar el servicio.\n",
    "Las columnas 'reg_date' y 'churn_date' están representadas como objetos (strings), lo que puede no ser el tipo de datos más adecuado para fechas.\n",
    "En la muestra de datos para usuarios, podemos observar algunos ejemplos de usuarios junto con sus características. Cada usuario está identificado por un 'user_id' único y tiene un nombre, apellido, edad, ciudad de residencia, fecha de registro ('reg_date'), plan al que está suscrito ('plan'), y en algunos casos, una fecha en la que dejaron de usar el servicio ('churn_date').\n",
    "\n",
    "Para mejorar los datos:\n",
    "\n",
    "Convertir las columnas 'reg_date' y 'churn_date' al tipo de dato datetime para un mejor manejo de fechas.\n",
    "Investigar si hay algún patrón en los usuarios que han dejado de usar el servicio y cómo eso podría influir en el análisis.\n",
    "Verificar la consistencia de los datos en las columnas 'age' y 'city' para asegurarse de que no haya entradas erróneas o inconsistentes.\n",
    "Evaluar si es necesario realizar alguna acción adicional con los datos faltantes en la columna 'churn_date', como imputarlos o considerarlos como un valor separado para usuarios activos."
   ]
  },
  {
   "cell_type": "markdown",
   "metadata": {},
   "source": [
    "<div class=\"alert alert-block alert-success\">\n",
    "\n",
    "<b>Comentario del revisor</b> <a class=\"tocSkip\"></a>\n",
    "\n",
    "Muy buenas observaciones.</div>\n",
    "\n"
   ]
  },
  {
   "cell_type": "markdown",
   "metadata": {
    "id": "BX5FQh_I0q06"
   },
   "source": [
    "### Corregir los datos"
   ]
  },
  {
   "cell_type": "code",
   "execution_count": 10,
   "metadata": {
    "id": "yUqX-K0C0q07"
   },
   "outputs": [
    {
     "name": "stdout",
     "output_type": "stream",
     "text": [
      "<class 'pandas.core.frame.DataFrame'>\n",
      "RangeIndex: 500 entries, 0 to 499\n",
      "Data columns (total 9 columns):\n",
      " #   Column      Non-Null Count  Dtype         \n",
      "---  ------      --------------  -----         \n",
      " 0   user_id     500 non-null    int64         \n",
      " 1   first_name  500 non-null    object        \n",
      " 2   last_name   500 non-null    object        \n",
      " 3   age         500 non-null    int64         \n",
      " 4   city        500 non-null    object        \n",
      " 5   reg_date    500 non-null    datetime64[ns]\n",
      " 6   plan        500 non-null    object        \n",
      " 7   churn_date  500 non-null    object        \n",
      " 8   msa         500 non-null    object        \n",
      "dtypes: datetime64[ns](1), int64(2), object(6)\n",
      "memory usage: 35.3+ KB\n",
      "None\n",
      "   user_id first_name  last_name  age                           city  \\\n",
      "0     1000   Anamaria      Bauer   45  Atlanta-Sandy Springs-Roswell   \n",
      "1     1001     Mickey  Wilkerson   28        Seattle-Tacoma-Bellevue   \n",
      "2     1002     Carlee    Hoffman   36   Las Vegas-Henderson-Paradise   \n",
      "3     1003   Reynaldo    Jenkins   52                          Tulsa   \n",
      "4     1004    Leonila   Thompson   40        Seattle-Tacoma-Bellevue   \n",
      "\n",
      "    reg_date      plan  churn_date      msa  \n",
      "0 2018-12-24  ultimate  2024-01-01   GA MSA  \n",
      "1 2018-08-13      surf  2024-01-01   WA MSA  \n",
      "2 2018-10-21      surf  2024-01-01   NV MSA  \n",
      "3 2018-01-28      surf  2024-01-01   OK MSA  \n",
      "4 2018-05-23      surf  2024-01-01   WA MSA  \n"
     ]
    }
   ],
   "source": [
    "# Corregir tipos de datos\n",
    "users['reg_date'] = pd.to_datetime(users['reg_date'])\n",
    "users['churn_date'] = pd.to_datetime(users['churn_date'])\n",
    "\n",
    "# Rellenar valores nulos en churn_date con una marca de tiempo especial (por ejemplo, '2024-01-01' para indicar usuarios activos)\n",
    "users['churn_date'].fillna('2024-01-01', inplace=True)\n",
    "\n",
    "# Dividir la columna city para separar la ciudad y la MSA\n",
    "users[['city', 'msa']] = users['city'].str.split(',', expand=True)\n",
    "\n",
    "# Verificar los cambios\n",
    "print(users.info())\n",
    "print(users.head())"
   ]
  },
  {
   "cell_type": "markdown",
   "metadata": {
    "id": "ycwuARJp0q07"
   },
   "source": [
    "### Enriquecer los datos"
   ]
  },
  {
   "cell_type": "code",
   "execution_count": 11,
   "metadata": {
    "id": "iq0AaBS90q08"
   },
   "outputs": [
    {
     "name": "stdout",
     "output_type": "stream",
     "text": [
      "   user_id first_name  last_name  age                           city  \\\n",
      "0     1000   Anamaria      Bauer   45  Atlanta-Sandy Springs-Roswell   \n",
      "1     1001     Mickey  Wilkerson   28        Seattle-Tacoma-Bellevue   \n",
      "2     1002     Carlee    Hoffman   36   Las Vegas-Henderson-Paradise   \n",
      "3     1003   Reynaldo    Jenkins   52                          Tulsa   \n",
      "4     1004    Leonila   Thompson   40        Seattle-Tacoma-Bellevue   \n",
      "\n",
      "    reg_date      plan churn_date      msa subscription_duration  \n",
      "0 2018-12-24  ultimate 2024-01-01   GA MSA             1834 days  \n",
      "1 2018-08-13      surf 2024-01-01   WA MSA             1967 days  \n",
      "2 2018-10-21      surf 2024-01-01   NV MSA             1898 days  \n",
      "3 2018-01-28      surf 2024-01-01   OK MSA             2164 days  \n",
      "4 2018-05-23      surf 2024-01-01   WA MSA             2049 days  \n"
     ]
    }
   ],
   "source": [
    "\n",
    "# Convertir las columnas de fecha a tipo datetime\n",
    "users['reg_date'] = pd.to_datetime(users['reg_date'])\n",
    "users['churn_date'] = pd.to_datetime(users['churn_date'])\n",
    "\n",
    "# Calcular la duración de la suscripción para cada usuario\n",
    "users['subscription_duration'] = users['churn_date'] - users['reg_date']\n",
    "\n",
    "# Verificar los cambios\n",
    "print(users.head())"
   ]
  },
  {
   "cell_type": "markdown",
   "metadata": {
    "id": "o7MeKCid0q08"
   },
   "source": [
    "## Llamadas"
   ]
  },
  {
   "cell_type": "code",
   "execution_count": 12,
   "metadata": {
    "id": "6dDlnoDm0q08"
   },
   "outputs": [
    {
     "name": "stdout",
     "output_type": "stream",
     "text": [
      "<class 'pandas.core.frame.DataFrame'>\n",
      "RangeIndex: 137735 entries, 0 to 137734\n",
      "Data columns (total 4 columns):\n",
      " #   Column     Non-Null Count   Dtype  \n",
      "---  ------     --------------   -----  \n",
      " 0   id         137735 non-null  object \n",
      " 1   user_id    137735 non-null  int64  \n",
      " 2   call_date  137735 non-null  object \n",
      " 3   duration   137735 non-null  float64\n",
      "dtypes: float64(1), int64(1), object(2)\n",
      "memory usage: 4.2+ MB\n",
      "None\n"
     ]
    },
    {
     "data": {
      "text/html": [
       "<div>\n",
       "<style scoped>\n",
       "    .dataframe tbody tr th:only-of-type {\n",
       "        vertical-align: middle;\n",
       "    }\n",
       "\n",
       "    .dataframe tbody tr th {\n",
       "        vertical-align: top;\n",
       "    }\n",
       "\n",
       "    .dataframe thead th {\n",
       "        text-align: right;\n",
       "    }\n",
       "</style>\n",
       "<table border=\"1\" class=\"dataframe\">\n",
       "  <thead>\n",
       "    <tr style=\"text-align: right;\">\n",
       "      <th></th>\n",
       "      <th>user_id</th>\n",
       "      <th>duration</th>\n",
       "    </tr>\n",
       "  </thead>\n",
       "  <tbody>\n",
       "    <tr>\n",
       "      <th>count</th>\n",
       "      <td>137735.000000</td>\n",
       "      <td>137735.000000</td>\n",
       "    </tr>\n",
       "    <tr>\n",
       "      <th>mean</th>\n",
       "      <td>1247.658046</td>\n",
       "      <td>6.745927</td>\n",
       "    </tr>\n",
       "    <tr>\n",
       "      <th>std</th>\n",
       "      <td>139.416268</td>\n",
       "      <td>5.839241</td>\n",
       "    </tr>\n",
       "    <tr>\n",
       "      <th>min</th>\n",
       "      <td>1000.000000</td>\n",
       "      <td>0.000000</td>\n",
       "    </tr>\n",
       "    <tr>\n",
       "      <th>25%</th>\n",
       "      <td>1128.000000</td>\n",
       "      <td>1.290000</td>\n",
       "    </tr>\n",
       "    <tr>\n",
       "      <th>50%</th>\n",
       "      <td>1247.000000</td>\n",
       "      <td>5.980000</td>\n",
       "    </tr>\n",
       "    <tr>\n",
       "      <th>75%</th>\n",
       "      <td>1365.000000</td>\n",
       "      <td>10.690000</td>\n",
       "    </tr>\n",
       "    <tr>\n",
       "      <th>max</th>\n",
       "      <td>1499.000000</td>\n",
       "      <td>37.600000</td>\n",
       "    </tr>\n",
       "  </tbody>\n",
       "</table>\n",
       "</div>"
      ],
      "text/plain": [
       "             user_id       duration\n",
       "count  137735.000000  137735.000000\n",
       "mean     1247.658046       6.745927\n",
       "std       139.416268       5.839241\n",
       "min      1000.000000       0.000000\n",
       "25%      1128.000000       1.290000\n",
       "50%      1247.000000       5.980000\n",
       "75%      1365.000000      10.690000\n",
       "max      1499.000000      37.600000"
      ]
     },
     "execution_count": 12,
     "metadata": {},
     "output_type": "execute_result"
    }
   ],
   "source": [
    "# Imprime la información general/resumida sobre el DataFrame de las llamadas\n",
    "print(calls.info())\n",
    "calls.describe()"
   ]
  },
  {
   "cell_type": "code",
   "execution_count": 13,
   "metadata": {
    "id": "kuh1vlNB0q09"
   },
   "outputs": [
    {
     "name": "stdout",
     "output_type": "stream",
     "text": [
      "         id  user_id   call_date  duration\n",
      "0   1000_93     1000  2018-12-27      8.52\n",
      "1  1000_145     1000  2018-12-27     13.66\n",
      "2  1000_247     1000  2018-12-27     14.48\n",
      "3  1000_309     1000  2018-12-28      5.76\n",
      "4  1000_380     1000  2018-12-30      4.22\n",
      "No se encontraron duplicados en el DataFrame de llamadas.\n"
     ]
    }
   ],
   "source": [
    "# Imprime una muestra de datos para las llamadas\n",
    "print(calls.head())\n",
    "duplicates_all = calls.duplicated().any()\n",
    "\n",
    "if duplicates_all:\n",
    "    print(\"Se encontraron duplicados en el DataFrame de llamadas.\")\n",
    "else:\n",
    "    print(\"No se encontraron duplicados en el DataFrame de llamadas.\")"
   ]
  },
  {
   "cell_type": "markdown",
   "metadata": {},
   "source": [
    "<div class=\"alert alert-block alert-danger\">\n",
    "\n",
    "<b>Comentario del revisor</b> <a class=\"tocSkip\"></a>\n",
    "\n",
    "Verifica que no existen duplicados.</div>\n",
    "\n",
    "<div class=\"alert alert-block alert-danger\">\n",
    "\n",
    "<b>Comentario del revisor</b> <a class=\"tocSkip\"></a>\n",
    "\n",
    "Recorda utilizar el metodo describe() para una exploracion rapida inicial de aquellas variables numericas. Siempre es necesario realizarlo ya que de forma rapida tenemos un panorama muy bueno de que nos espera e incluso encontraremos inconsistencias si existiencen.\n",
    "Describi al respecto lo que ves. </div>\n",
    "\n",
    "<div class=\"alert alert-block alert-success\">\n",
    "\n",
    "<b>Comentario del revisor #2</b> <a class=\"tocSkip\"></a>\n",
    "\n",
    "Corregido. Muy bien.</div>"
   ]
  },
  {
   "cell_type": "markdown",
   "metadata": {
    "id": "DOAxYJSx0q09"
   },
   "source": [
    "\n",
    "En la información general y en la muestra de datos para las llamadas, observamos lo siguiente:\n",
    "\n",
    "Hay un total de 137,735 entradas en el conjunto de datos.\n",
    "No hay valores nulos en ninguna de las columnas.\n",
    "La columna \"id\" parece ser una combinación de \"user_id\" y un identificador único de la llamada.\n",
    "La columna \"call_date\" está en formato de objeto (cadena), lo cual debe convertirse a tipo de datos datetime para facilitar el análisis temporal.\n",
    "La duración de la llamada está representada en minutos con decimales en la columna \"duration\".\n",
    "Todos los tipos de datos parecen adecuados para su propósito, excepto la columna \"call_date\" que necesita ser convertida a tipo de datos datetime.\n",
    "Para resolver estos problemas, debemos realizar las siguientes acciones:\n",
    "\n",
    "Convertir la columna \"call_date\" a tipo de datos datetime.\n",
    "Verificar si la columna \"id\" es realmente necesaria para nuestro análisis o si puede ser eliminada.\n",
    "No parece haber otros problemas significativos con este conjunto de datos.\n",
    "En cuanto a qué hacer con estas llamadas, depende del contexto del análisis y de las decisiones que se tomen con respecto a la calidad de los datos. Aquí hay algunas opciones:\n",
    "\n",
    "Eliminar las filas: Si consideras que las llamadas con duración igual a 0 minutos son datos incorrectos o incompletos, puedes optar por eliminar esas filas del DataFrame calls.\n",
    "\n",
    "Corregir los datos: Si sabes que algunas llamadas con duración 0 minutos son válidas (por ejemplo, llamadas perdidas), puedes corregir o ajustar los valores de duración para reflejar mejor la realidad de las llamadas.\n",
    "\n",
    "Conservar los datos: Si crees que las llamadas con duración igual a 0 minutos son válidas y relevantes para tu análisis, puedes conservar esos datos sin hacer ningún cambio.\n",
    "\n",
    "La decisión de qué hacer con las llamadas que duran 0 minutos depende del contexto específico del análisis y de los objetivos del proyecto."
   ]
  },
  {
   "cell_type": "markdown",
   "metadata": {},
   "source": [
    "<div class=\"alert alert-block alert-success\">\n",
    "\n",
    "<b>Comentario del revisor</b> <a class=\"tocSkip\"></a>\n",
    "\n",
    "Muy bien.</div>\n",
    "\n"
   ]
  },
  {
   "cell_type": "markdown",
   "metadata": {},
   "source": [
    "<div class=\"alert alert-block alert-warning\">\n",
    "\n",
    "<b>Comentario del revisor</b> <a class=\"tocSkip\"></a>\n",
    "\n",
    "¿Hay valores de llamadas que duran 0 minutos? ¿Que harias con ellas?</div>"
   ]
  },
  {
   "cell_type": "markdown",
   "metadata": {
    "id": "S7hzxmbX0q0-"
   },
   "source": [
    "### Corregir los datos"
   ]
  },
  {
   "cell_type": "markdown",
   "metadata": {
    "id": "YxWyAjD20q0-"
   },
   "source": [
    "[Corrige los problemas obvios con los datos basándote en las observaciones iniciales.]"
   ]
  },
  {
   "cell_type": "code",
   "execution_count": 14,
   "metadata": {
    "id": "S2r8xA4f0q0-"
   },
   "outputs": [
    {
     "name": "stdout",
     "output_type": "stream",
     "text": [
      "<class 'pandas.core.frame.DataFrame'>\n",
      "RangeIndex: 137735 entries, 0 to 137734\n",
      "Data columns (total 3 columns):\n",
      " #   Column     Non-Null Count   Dtype         \n",
      "---  ------     --------------   -----         \n",
      " 0   user_id    137735 non-null  int64         \n",
      " 1   call_date  137735 non-null  datetime64[ns]\n",
      " 2   duration   137735 non-null  float64       \n",
      "dtypes: datetime64[ns](1), float64(1), int64(1)\n",
      "memory usage: 3.2 MB\n",
      "None\n",
      "   user_id  call_date  duration\n",
      "0     1000 2018-12-27      8.52\n",
      "1     1000 2018-12-27     13.66\n",
      "2     1000 2018-12-27     14.48\n",
      "3     1000 2018-12-28      5.76\n",
      "4     1000 2018-12-30      4.22\n"
     ]
    }
   ],
   "source": [
    "# Convertir la columna \"call_date\" a tipo de datos datetime\n",
    "calls['call_date'] = pd.to_datetime(calls['call_date'])\n",
    "\n",
    "# Verificar si la columna \"id\" es necesaria para nuestro análisis y eliminarla si no lo es\n",
    "if 'id' in calls.columns:\n",
    "    calls.drop(columns=['id'], inplace=True)\n",
    "\n",
    "# Verificar los cambios\n",
    "print(calls.info())\n",
    "print(calls.head())"
   ]
  },
  {
   "cell_type": "markdown",
   "metadata": {
    "id": "KrMgTrlG0q0_"
   },
   "source": [
    "### Enriquecer los datos"
   ]
  },
  {
   "cell_type": "code",
   "execution_count": 15,
   "metadata": {
    "id": "iZ1avpA_0q0_"
   },
   "outputs": [
    {
     "name": "stdout",
     "output_type": "stream",
     "text": [
      "   user_id  call_date  duration  duration_rounded  month\n",
      "0     1000 2018-12-27      8.52               9.0     12\n",
      "1     1000 2018-12-27     13.66              14.0     12\n",
      "2     1000 2018-12-27     14.48              15.0     12\n",
      "3     1000 2018-12-28      5.76               6.0     12\n",
      "4     1000 2018-12-30      4.22               5.0     12\n"
     ]
    }
   ],
   "source": [
    "# Redondear la duración de las llamadas al alza usando ceiling de NumPy y convertirla a minutos\n",
    "calls['duration_rounded'] = np.ceil(calls['duration'])\n",
    "\n",
    "# Convertir la columna 'call_date' a tipo datetime para poder extraer el mes\n",
    "calls['call_date'] = pd.to_datetime(calls['call_date'])\n",
    "\n",
    "# Extraer el mes y añadirlo como una nueva columna llamada 'month'\n",
    "calls['month'] = calls['call_date'].dt.month\n",
    "\n",
    "# Verificar los cambios\n",
    "print(calls.head())"
   ]
  },
  {
   "cell_type": "markdown",
   "metadata": {},
   "source": [
    "<div class=\"alert alert-block alert-danger\">\n",
    "\n",
    "<b>Comentario del revisor</b> <a class=\"tocSkip\"></a>\n",
    "\n",
    "En este caso el cliente tiene una forma particular (redonde al alza) de llevar el recuento de la duracion de las llamadas (aplica un redondeo).\n",
    "\n",
    "Realizalo con el mejor metodo  para esto que es el ceiling de **numpy**. Utilizalo para redondear de forma eficiente. </div>\n",
    "<div class=\"alert alert-block alert-success\">\n",
    "\n",
    "<b>Comentario del revisor #3</b> <a class=\"tocSkip\"></a>\n",
    "\n",
    "Corregido.</div>\n"
   ]
  },
  {
   "cell_type": "markdown",
   "metadata": {},
   "source": [
    "<div class=\"alert alert-block alert-danger\">\n",
    "\n",
    "<b>Comentario del revisor</b> <a class=\"tocSkip\"></a>\n",
    "\n",
    "Extrae el mes de este dataset. Esto es muy importante porque luego lo utilizaremos tanto para agrupar como para graficar.\n",
    "\n",
    "Ademas, este es el lugar para hacerlo.</div>\n",
    "\n",
    "<div class=\"alert alert-block alert-warning\">\n",
    "\n",
    "<b>Comentario del revisor #2</b> <a class=\"tocSkip\"></a>\n",
    "\n",
    "Esta bien, en este caso seria una mejor opcion ejarlo en minutos para una mejor comprension.</div>\n",
    "\n",
    "<div class=\"alert alert-block alert-success\">\n",
    "\n",
    "<b>Comentario del revisor #3</b> <a class=\"tocSkip\"></a>\n",
    "\n",
    "Corregido.</div>"
   ]
  },
  {
   "cell_type": "markdown",
   "metadata": {
    "id": "mOUZSi180q0_"
   },
   "source": [
    "## Mensajes"
   ]
  },
  {
   "cell_type": "code",
   "execution_count": 16,
   "metadata": {
    "id": "R-bYJpdV0q1A"
   },
   "outputs": [
    {
     "name": "stdout",
     "output_type": "stream",
     "text": [
      "<class 'pandas.core.frame.DataFrame'>\n",
      "RangeIndex: 76051 entries, 0 to 76050\n",
      "Data columns (total 3 columns):\n",
      " #   Column        Non-Null Count  Dtype \n",
      "---  ------        --------------  ----- \n",
      " 0   id            76051 non-null  object\n",
      " 1   user_id       76051 non-null  int64 \n",
      " 2   message_date  76051 non-null  object\n",
      "dtypes: int64(1), object(2)\n",
      "memory usage: 1.7+ MB\n",
      "None\n"
     ]
    },
    {
     "data": {
      "text/html": [
       "<div>\n",
       "<style scoped>\n",
       "    .dataframe tbody tr th:only-of-type {\n",
       "        vertical-align: middle;\n",
       "    }\n",
       "\n",
       "    .dataframe tbody tr th {\n",
       "        vertical-align: top;\n",
       "    }\n",
       "\n",
       "    .dataframe thead th {\n",
       "        text-align: right;\n",
       "    }\n",
       "</style>\n",
       "<table border=\"1\" class=\"dataframe\">\n",
       "  <thead>\n",
       "    <tr style=\"text-align: right;\">\n",
       "      <th></th>\n",
       "      <th>user_id</th>\n",
       "    </tr>\n",
       "  </thead>\n",
       "  <tbody>\n",
       "    <tr>\n",
       "      <th>count</th>\n",
       "      <td>76051.000000</td>\n",
       "    </tr>\n",
       "    <tr>\n",
       "      <th>mean</th>\n",
       "      <td>1245.972768</td>\n",
       "    </tr>\n",
       "    <tr>\n",
       "      <th>std</th>\n",
       "      <td>139.843635</td>\n",
       "    </tr>\n",
       "    <tr>\n",
       "      <th>min</th>\n",
       "      <td>1000.000000</td>\n",
       "    </tr>\n",
       "    <tr>\n",
       "      <th>25%</th>\n",
       "      <td>1123.000000</td>\n",
       "    </tr>\n",
       "    <tr>\n",
       "      <th>50%</th>\n",
       "      <td>1251.000000</td>\n",
       "    </tr>\n",
       "    <tr>\n",
       "      <th>75%</th>\n",
       "      <td>1362.000000</td>\n",
       "    </tr>\n",
       "    <tr>\n",
       "      <th>max</th>\n",
       "      <td>1497.000000</td>\n",
       "    </tr>\n",
       "  </tbody>\n",
       "</table>\n",
       "</div>"
      ],
      "text/plain": [
       "            user_id\n",
       "count  76051.000000\n",
       "mean    1245.972768\n",
       "std      139.843635\n",
       "min     1000.000000\n",
       "25%     1123.000000\n",
       "50%     1251.000000\n",
       "75%     1362.000000\n",
       "max     1497.000000"
      ]
     },
     "execution_count": 16,
     "metadata": {},
     "output_type": "execute_result"
    }
   ],
   "source": [
    "# Imprime la información general/resumida sobre el DataFrame de los mensajes\n",
    "print(messages.info())\n",
    "messages.describe()"
   ]
  },
  {
   "cell_type": "code",
   "execution_count": 17,
   "metadata": {
    "id": "mCEl2iGE0q1A"
   },
   "outputs": [
    {
     "name": "stdout",
     "output_type": "stream",
     "text": [
      "         id  user_id message_date\n",
      "0  1000_125     1000   2018-12-27\n",
      "1  1000_160     1000   2018-12-31\n",
      "2  1000_223     1000   2018-12-31\n",
      "3  1000_251     1000   2018-12-27\n",
      "4  1000_255     1000   2018-12-26\n",
      "No hay duplicados en el DataFrame de los mensajes.\n"
     ]
    }
   ],
   "source": [
    "# Imprime una muestra de datos para los mensajes\n",
    "\n",
    "print(messages.head())\n",
    "# Verificar duplicados en el DataFrame de los mensajes\n",
    "duplicates = messages.duplicated().any()\n",
    "\n",
    "if duplicates:\n",
    "    print(\"Hay duplicados en el DataFrame de los mensajes.\")\n",
    "else:\n",
    "    print(\"No hay duplicados en el DataFrame de los mensajes.\")\n"
   ]
  },
  {
   "cell_type": "markdown",
   "metadata": {},
   "source": [
    "<div class=\"alert alert-block alert-danger\">\n",
    "\n",
    "<b>Comentario del revisor</b> <a class=\"tocSkip\"></a>\n",
    "\n",
    "Verifica que no existen duplicados.</div>\n",
    "\n",
    "<div class=\"alert alert-block alert-success\">\n",
    "\n",
    "<b>Comentario del revisor #2</b> <a class=\"tocSkip\"></a>\n",
    "\n",
    "Corregido.</div>"
   ]
  },
  {
   "cell_type": "markdown",
   "metadata": {
    "id": "04xDj7KH0q1A"
   },
   "source": [
    "La información general indica que el DataFrame de mensajes tiene tres columnas: \"id\", \"user_id\" y \"message_date\". No hay valores nulos en ninguna de las columnas, lo cual es positivo.\n",
    "\n",
    "Sin embargo, la columna \"message_date\" está representada como un objeto en lugar de un tipo de datos datetime, lo que dificulta el análisis de fechas. Sería beneficioso convertir esta columna al tipo de datos datetime para facilitar el trabajo con fechas.\n",
    "\n",
    "Además, la columna \"id\" parece contener identificadores únicos para cada mensaje, lo cual es apropiado."
   ]
  },
  {
   "cell_type": "markdown",
   "metadata": {
    "id": "Sprfak900q1B"
   },
   "source": [
    "### Corregir los datos"
   ]
  },
  {
   "cell_type": "code",
   "execution_count": 18,
   "metadata": {
    "id": "vsllvkoa0q1B"
   },
   "outputs": [
    {
     "name": "stdout",
     "output_type": "stream",
     "text": [
      "<class 'pandas.core.frame.DataFrame'>\n",
      "RangeIndex: 76051 entries, 0 to 76050\n",
      "Data columns (total 3 columns):\n",
      " #   Column        Non-Null Count  Dtype         \n",
      "---  ------        --------------  -----         \n",
      " 0   id            76051 non-null  object        \n",
      " 1   user_id       76051 non-null  int64         \n",
      " 2   message_date  76051 non-null  datetime64[ns]\n",
      "dtypes: datetime64[ns](1), int64(1), object(1)\n",
      "memory usage: 1.7+ MB\n",
      "None\n",
      "         id  user_id message_date\n",
      "0  1000_125     1000   2018-12-27\n",
      "1  1000_160     1000   2018-12-31\n",
      "2  1000_223     1000   2018-12-31\n",
      "3  1000_251     1000   2018-12-27\n",
      "4  1000_255     1000   2018-12-26\n"
     ]
    }
   ],
   "source": [
    "# Convertir la columna 'message_date' a datetime\n",
    "messages['message_date'] = pd.to_datetime(messages['message_date'])\n",
    "\n",
    "# Verificar los cambios\n",
    "print(messages.info())\n",
    "print(messages.head())"
   ]
  },
  {
   "cell_type": "markdown",
   "metadata": {
    "id": "HvLid7iD0q1B"
   },
   "source": [
    "### Enriquecer los datos"
   ]
  },
  {
   "cell_type": "code",
   "execution_count": 19,
   "metadata": {
    "id": "zYEXZac10q1C"
   },
   "outputs": [
    {
     "name": "stdout",
     "output_type": "stream",
     "text": [
      "         id  user_id message_date  month\n",
      "0  1000_125     1000   2018-12-27     12\n",
      "1  1000_160     1000   2018-12-31     12\n",
      "2  1000_223     1000   2018-12-31     12\n",
      "3  1000_251     1000   2018-12-27     12\n",
      "4  1000_255     1000   2018-12-26     12\n"
     ]
    }
   ],
   "source": [
    "# Extraer el mes de la columna 'message_date' y crear una nueva columna 'month'\n",
    "messages['month'] = messages['message_date'].dt.month\n",
    "\n",
    "# Verificar los cambios\n",
    "print(messages.head())"
   ]
  },
  {
   "cell_type": "markdown",
   "metadata": {
    "id": "bStkaxn40q1C"
   },
   "source": [
    "## Internet"
   ]
  },
  {
   "cell_type": "code",
   "execution_count": 20,
   "metadata": {
    "id": "e-Uz5qyn0q1C"
   },
   "outputs": [
    {
     "name": "stdout",
     "output_type": "stream",
     "text": [
      "<class 'pandas.core.frame.DataFrame'>\n",
      "RangeIndex: 104825 entries, 0 to 104824\n",
      "Data columns (total 4 columns):\n",
      " #   Column        Non-Null Count   Dtype  \n",
      "---  ------        --------------   -----  \n",
      " 0   id            104825 non-null  object \n",
      " 1   user_id       104825 non-null  int64  \n",
      " 2   session_date  104825 non-null  object \n",
      " 3   mb_used       104825 non-null  float64\n",
      "dtypes: float64(1), int64(1), object(2)\n",
      "memory usage: 3.2+ MB\n",
      "None\n"
     ]
    },
    {
     "data": {
      "text/html": [
       "<div>\n",
       "<style scoped>\n",
       "    .dataframe tbody tr th:only-of-type {\n",
       "        vertical-align: middle;\n",
       "    }\n",
       "\n",
       "    .dataframe tbody tr th {\n",
       "        vertical-align: top;\n",
       "    }\n",
       "\n",
       "    .dataframe thead th {\n",
       "        text-align: right;\n",
       "    }\n",
       "</style>\n",
       "<table border=\"1\" class=\"dataframe\">\n",
       "  <thead>\n",
       "    <tr style=\"text-align: right;\">\n",
       "      <th></th>\n",
       "      <th>user_id</th>\n",
       "      <th>mb_used</th>\n",
       "    </tr>\n",
       "  </thead>\n",
       "  <tbody>\n",
       "    <tr>\n",
       "      <th>count</th>\n",
       "      <td>104825.000000</td>\n",
       "      <td>104825.000000</td>\n",
       "    </tr>\n",
       "    <tr>\n",
       "      <th>mean</th>\n",
       "      <td>1242.496361</td>\n",
       "      <td>366.713701</td>\n",
       "    </tr>\n",
       "    <tr>\n",
       "      <th>std</th>\n",
       "      <td>142.053913</td>\n",
       "      <td>277.170542</td>\n",
       "    </tr>\n",
       "    <tr>\n",
       "      <th>min</th>\n",
       "      <td>1000.000000</td>\n",
       "      <td>0.000000</td>\n",
       "    </tr>\n",
       "    <tr>\n",
       "      <th>25%</th>\n",
       "      <td>1122.000000</td>\n",
       "      <td>136.080000</td>\n",
       "    </tr>\n",
       "    <tr>\n",
       "      <th>50%</th>\n",
       "      <td>1236.000000</td>\n",
       "      <td>343.980000</td>\n",
       "    </tr>\n",
       "    <tr>\n",
       "      <th>75%</th>\n",
       "      <td>1367.000000</td>\n",
       "      <td>554.610000</td>\n",
       "    </tr>\n",
       "    <tr>\n",
       "      <th>max</th>\n",
       "      <td>1499.000000</td>\n",
       "      <td>1693.470000</td>\n",
       "    </tr>\n",
       "  </tbody>\n",
       "</table>\n",
       "</div>"
      ],
      "text/plain": [
       "             user_id        mb_used\n",
       "count  104825.000000  104825.000000\n",
       "mean     1242.496361     366.713701\n",
       "std       142.053913     277.170542\n",
       "min      1000.000000       0.000000\n",
       "25%      1122.000000     136.080000\n",
       "50%      1236.000000     343.980000\n",
       "75%      1367.000000     554.610000\n",
       "max      1499.000000    1693.470000"
      ]
     },
     "execution_count": 20,
     "metadata": {},
     "output_type": "execute_result"
    }
   ],
   "source": [
    "# Imprime la información general/resumida sobre el DataFrame de internet\n",
    "print(internet.info())\n",
    "internet.describe()"
   ]
  },
  {
   "cell_type": "code",
   "execution_count": 21,
   "metadata": {
    "id": "9r3x_XLw0q1C"
   },
   "outputs": [
    {
     "name": "stdout",
     "output_type": "stream",
     "text": [
      "         id  user_id session_date  mb_used\n",
      "0   1000_13     1000   2018-12-29    89.86\n",
      "1  1000_204     1000   2018-12-31     0.00\n",
      "2  1000_379     1000   2018-12-28   660.40\n",
      "3  1000_413     1000   2018-12-26   270.99\n",
      "4  1000_442     1000   2018-12-27   880.22\n",
      "No hay duplicados en el DataFrame de Internet.\n"
     ]
    }
   ],
   "source": [
    "# Imprime una muestra de datos para el tráfico de internet\n",
    "print(internet.head())\n",
    "# Verificar duplicados en el DataFrame de los mensajes\n",
    "duplicates = internet.duplicated().any()\n",
    "\n",
    "if duplicates:\n",
    "    print(\"Hay duplicados en el DataFrame de Internet.\")\n",
    "else:\n",
    "    print(\"No hay duplicados en el DataFrame de Internet.\")\n"
   ]
  },
  {
   "cell_type": "markdown",
   "metadata": {},
   "source": [
    "<div class=\"alert alert-block alert-danger\">\n",
    "\n",
    "<b>Comentario del revisor</b> <a class=\"tocSkip\"></a>\n",
    "\n",
    "Verifica que no existen duplicados.</div>\n",
    "\n",
    "<div class=\"alert alert-block alert-danger\">\n",
    "\n",
    "<b>Comentario del revisor</b> <a class=\"tocSkip\"></a>\n",
    "\n",
    "Recorda utilizar el metodo describe() para una exploracion rapida inicial de aquellas variables numericas. Siempre es necesario realizarlo ya que de forma rapida tenemos un panorama muy bueno de que nos espera e incluso encontraremos inconsistencias si existiencen.\n",
    "Describi al respecto lo que ves. </div>\n",
    "\n",
    "<div class=\"alert alert-block alert-success\">\n",
    "\n",
    "<b>Comentario del revisor #2</b> <a class=\"tocSkip\"></a>\n",
    "\n",
    "Corregido. Muy bien.</div>"
   ]
  },
  {
   "cell_type": "markdown",
   "metadata": {
    "id": "EzOG5ik30q1D"
   },
   "source": [
    "\n",
    "En la información general del DataFrame de tráfico de internet, observamos lo siguiente:\n",
    "\n",
    "El DataFrame tiene 104825 entradas y 4 columnas.\n",
    "No hay valores nulos en ninguna de las columnas, lo que significa que no hay datos faltantes en el conjunto de datos.\n",
    "Las columnas \"id\" y \"session_date\" son de tipo object, lo cual podría ser un problema si queremos realizar operaciones de fecha y tiempo con ellas. Sería conveniente convertir la columna \"session_date\" a tipo datetime para facilitar su manipulación.\n",
    "En la muestra de datos impresa, podemos ver las primeras filas del DataFrame, que incluyen las columnas 'id', 'user_id', 'session_date' y 'mb_used'."
   ]
  },
  {
   "cell_type": "markdown",
   "metadata": {
    "id": "yA0tkPFg0q1D"
   },
   "source": [
    "### Corregir los datos"
   ]
  },
  {
   "cell_type": "code",
   "execution_count": 22,
   "metadata": {
    "id": "zVeanzdd0q1E"
   },
   "outputs": [
    {
     "name": "stdout",
     "output_type": "stream",
     "text": [
      "         id  user_id session_date  mb_used\n",
      "0   1000_13     1000   2018-12-29    89.86\n",
      "1  1000_204     1000   2018-12-31     0.00\n",
      "2  1000_379     1000   2018-12-28   660.40\n",
      "3  1000_413     1000   2018-12-26   270.99\n",
      "4  1000_442     1000   2018-12-27   880.22\n"
     ]
    }
   ],
   "source": [
    "# Convertir la columna 'session_date' a tipo datetime\n",
    "internet['session_date'] = pd.to_datetime(internet['session_date'])\n",
    "\n",
    "# Verificar los cambios\n",
    "print(internet.head())"
   ]
  },
  {
   "cell_type": "markdown",
   "metadata": {
    "id": "e8_mLF4a0q1E"
   },
   "source": [
    "### Enriquecer los datos"
   ]
  },
  {
   "cell_type": "code",
   "execution_count": 23,
   "metadata": {
    "id": "ESiYPIEK0q1E"
   },
   "outputs": [
    {
     "name": "stdout",
     "output_type": "stream",
     "text": [
      "         id  user_id session_date  mb_used  session_month  session_year  \\\n",
      "0   1000_13     1000   2018-12-29    89.86             12          2018   \n",
      "1  1000_204     1000   2018-12-31     0.00             12          2018   \n",
      "2  1000_379     1000   2018-12-28   660.40             12          2018   \n",
      "3  1000_413     1000   2018-12-26   270.99             12          2018   \n",
      "4  1000_442     1000   2018-12-27   880.22             12          2018   \n",
      "\n",
      "   session_day_of_week  \n",
      "0                    5  \n",
      "1                    0  \n",
      "2                    4  \n",
      "3                    2  \n",
      "4                    3  \n"
     ]
    }
   ],
   "source": [
    "# Agregar el mes y el año de la sesión\n",
    "internet['session_month'] = internet['session_date'].dt.month\n",
    "internet['session_year'] = internet['session_date'].dt.year\n",
    "\n",
    "# Agregar el día de la semana de la sesión (0: lunes, 1: martes, ..., 6: domingo)\n",
    "internet['session_day_of_week'] = internet['session_date'].dt.dayofweek\n",
    "\n",
    "# Verificar los cambios\n",
    "print(internet.head())"
   ]
  },
  {
   "cell_type": "markdown",
   "metadata": {
    "id": "3UA2cqIW0q1E"
   },
   "source": [
    "## Estudiar las condiciones de las tarifas"
   ]
  },
  {
   "cell_type": "code",
   "execution_count": 24,
   "metadata": {
    "id": "i409op8p0q1F"
   },
   "outputs": [
    {
     "data": {
      "text/html": [
       "<div>\n",
       "<style scoped>\n",
       "    .dataframe tbody tr th:only-of-type {\n",
       "        vertical-align: middle;\n",
       "    }\n",
       "\n",
       "    .dataframe tbody tr th {\n",
       "        vertical-align: top;\n",
       "    }\n",
       "\n",
       "    .dataframe thead th {\n",
       "        text-align: right;\n",
       "    }\n",
       "</style>\n",
       "<table border=\"1\" class=\"dataframe\">\n",
       "  <thead>\n",
       "    <tr style=\"text-align: right;\">\n",
       "      <th></th>\n",
       "      <th>messages_included</th>\n",
       "      <th>mb_per_month_included</th>\n",
       "      <th>minutes_included</th>\n",
       "      <th>monthly_fee_usd</th>\n",
       "      <th>additional_gb_fee_usd</th>\n",
       "      <th>additional_message_fee_usd</th>\n",
       "      <th>additional_minute_fee_usd</th>\n",
       "      <th>total_expected_cost_usd</th>\n",
       "    </tr>\n",
       "  </thead>\n",
       "  <tbody>\n",
       "    <tr>\n",
       "      <th>count</th>\n",
       "      <td>2.000000</td>\n",
       "      <td>2.000000</td>\n",
       "      <td>2.000000</td>\n",
       "      <td>2.000000</td>\n",
       "      <td>2.00000</td>\n",
       "      <td>2.000000</td>\n",
       "      <td>2.000000</td>\n",
       "      <td>2.000000</td>\n",
       "    </tr>\n",
       "    <tr>\n",
       "      <th>mean</th>\n",
       "      <td>525.000000</td>\n",
       "      <td>22.500000</td>\n",
       "      <td>1750.000000</td>\n",
       "      <td>45.000000</td>\n",
       "      <td>8.50000</td>\n",
       "      <td>0.020000</td>\n",
       "      <td>0.020000</td>\n",
       "      <td>253.250000</td>\n",
       "    </tr>\n",
       "    <tr>\n",
       "      <th>std</th>\n",
       "      <td>671.751442</td>\n",
       "      <td>10.606602</td>\n",
       "      <td>1767.766953</td>\n",
       "      <td>35.355339</td>\n",
       "      <td>2.12132</td>\n",
       "      <td>0.014142</td>\n",
       "      <td>0.014142</td>\n",
       "      <td>94.398755</td>\n",
       "    </tr>\n",
       "    <tr>\n",
       "      <th>min</th>\n",
       "      <td>50.000000</td>\n",
       "      <td>15.000000</td>\n",
       "      <td>500.000000</td>\n",
       "      <td>20.000000</td>\n",
       "      <td>7.00000</td>\n",
       "      <td>0.010000</td>\n",
       "      <td>0.010000</td>\n",
       "      <td>186.500000</td>\n",
       "    </tr>\n",
       "    <tr>\n",
       "      <th>25%</th>\n",
       "      <td>287.500000</td>\n",
       "      <td>18.750000</td>\n",
       "      <td>1125.000000</td>\n",
       "      <td>32.500000</td>\n",
       "      <td>7.75000</td>\n",
       "      <td>0.015000</td>\n",
       "      <td>0.015000</td>\n",
       "      <td>219.875000</td>\n",
       "    </tr>\n",
       "    <tr>\n",
       "      <th>50%</th>\n",
       "      <td>525.000000</td>\n",
       "      <td>22.500000</td>\n",
       "      <td>1750.000000</td>\n",
       "      <td>45.000000</td>\n",
       "      <td>8.50000</td>\n",
       "      <td>0.020000</td>\n",
       "      <td>0.020000</td>\n",
       "      <td>253.250000</td>\n",
       "    </tr>\n",
       "    <tr>\n",
       "      <th>75%</th>\n",
       "      <td>762.500000</td>\n",
       "      <td>26.250000</td>\n",
       "      <td>2375.000000</td>\n",
       "      <td>57.500000</td>\n",
       "      <td>9.25000</td>\n",
       "      <td>0.025000</td>\n",
       "      <td>0.025000</td>\n",
       "      <td>286.625000</td>\n",
       "    </tr>\n",
       "    <tr>\n",
       "      <th>max</th>\n",
       "      <td>1000.000000</td>\n",
       "      <td>30.000000</td>\n",
       "      <td>3000.000000</td>\n",
       "      <td>70.000000</td>\n",
       "      <td>10.00000</td>\n",
       "      <td>0.030000</td>\n",
       "      <td>0.030000</td>\n",
       "      <td>320.000000</td>\n",
       "    </tr>\n",
       "  </tbody>\n",
       "</table>\n",
       "</div>"
      ],
      "text/plain": [
       "       messages_included  mb_per_month_included  minutes_included  \\\n",
       "count           2.000000               2.000000          2.000000   \n",
       "mean          525.000000              22.500000       1750.000000   \n",
       "std           671.751442              10.606602       1767.766953   \n",
       "min            50.000000              15.000000        500.000000   \n",
       "25%           287.500000              18.750000       1125.000000   \n",
       "50%           525.000000              22.500000       1750.000000   \n",
       "75%           762.500000              26.250000       2375.000000   \n",
       "max          1000.000000              30.000000       3000.000000   \n",
       "\n",
       "       monthly_fee_usd  additional_gb_fee_usd  additional_message_fee_usd  \\\n",
       "count         2.000000                2.00000                    2.000000   \n",
       "mean         45.000000                8.50000                    0.020000   \n",
       "std          35.355339                2.12132                    0.014142   \n",
       "min          20.000000                7.00000                    0.010000   \n",
       "25%          32.500000                7.75000                    0.015000   \n",
       "50%          45.000000                8.50000                    0.020000   \n",
       "75%          57.500000                9.25000                    0.025000   \n",
       "max          70.000000               10.00000                    0.030000   \n",
       "\n",
       "       additional_minute_fee_usd  total_expected_cost_usd  \n",
       "count                   2.000000                 2.000000  \n",
       "mean                    0.020000               253.250000  \n",
       "std                     0.014142                94.398755  \n",
       "min                     0.010000               186.500000  \n",
       "25%                     0.015000               219.875000  \n",
       "50%                     0.020000               253.250000  \n",
       "75%                     0.025000               286.625000  \n",
       "max                     0.030000               320.000000  "
      ]
     },
     "execution_count": 24,
     "metadata": {},
     "output_type": "execute_result"
    }
   ],
   "source": [
    "# Imprime las condiciones de la tarifa y asegúrate de que te quedan claras\n",
    "plans.describe()\n"
   ]
  },
  {
   "cell_type": "code",
   "execution_count": 25,
   "metadata": {
    "id": "A332cedB0q1G"
   },
   "outputs": [
    {
     "name": "stdout",
     "output_type": "stream",
     "text": [
      "      user_id  month  calls_count\n",
      "0        1000     12           16\n",
      "1        1001      8           27\n",
      "2        1001      9           49\n",
      "3        1001     10           65\n",
      "4        1001     11           64\n",
      "...       ...    ...          ...\n",
      "2253     1498     12           39\n",
      "2254     1499      9           41\n",
      "2255     1499     10           53\n",
      "2256     1499     11           45\n",
      "2257     1499     12           65\n",
      "\n",
      "[2258 rows x 3 columns]\n"
     ]
    }
   ],
   "source": [
    "# Calcula el número de llamadas hechas por cada usuario al mes. Guarda el resultado.\n",
    "calls_per_user_month = calls.groupby(['user_id', 'month']).count().reset_index()[['user_id', 'month', 'call_date']].rename(columns={'call_date': 'calls_count'})\n",
    "print(calls_per_user_month)"
   ]
  },
  {
   "cell_type": "markdown",
   "metadata": {},
   "source": [
    "<div class=\"alert alert-block alert-danger\">\n",
    "\n",
    "<b>Comentario del revisor</b> <a class=\"tocSkip\"></a>\n",
    "\n",
    "Agrupa por la columna mes que deberias haber extraido en la parte de llamadas.</div>\n",
    "\n",
    "<div class=\"alert alert-block alert-danger\">\n",
    "\n",
    "<b>Comentario del revisor #2</b> <a class=\"tocSkip\"></a>\n",
    "\n",
    "Utiliza la columna que extraiste el mes y no lo conviertas aqui. Ademas, **utiliza la funcion count()**  a ese groupby.</div>\n",
    "\n",
    "<div class=\"alert alert-block alert-success\">\n",
    "\n",
    "<b>Comentario del revisor #3</b> <a class=\"tocSkip\"></a>\n",
    "\n",
    "Corregido.</div>"
   ]
  },
  {
   "cell_type": "code",
   "execution_count": 26,
   "metadata": {
    "id": "aw2cmuql0q1G"
   },
   "outputs": [
    {
     "name": "stdout",
     "output_type": "stream",
     "text": [
      "      user_id  month  minutes_used\n",
      "0        1000     12            16\n",
      "1        1001      8            27\n",
      "2        1001      9            49\n",
      "3        1001     10            65\n",
      "4        1001     11            64\n",
      "...       ...    ...           ...\n",
      "2253     1498     12            39\n",
      "2254     1499      9            41\n",
      "2255     1499     10            53\n",
      "2256     1499     11            45\n",
      "2257     1499     12            65\n",
      "\n",
      "[2258 rows x 3 columns]\n"
     ]
    }
   ],
   "source": [
    "# Calcula la cantidad de minutos usados por cada usuario al mes. Guarda el resultado.\n",
    "minutes_per_user_month = calls.groupby(['user_id', 'month'])['duration'].count().reset_index(name='minutes_used')\n",
    "print(minutes_per_user_month)"
   ]
  },
  {
   "cell_type": "markdown",
   "metadata": {},
   "source": [
    "<div class=\"alert alert-block alert-danger\">\n",
    "\n",
    "<b>Comentario del revisor #2</b> <a class=\"tocSkip\"></a>\n",
    "\n",
    "Utiliza la columna que extraiste el mes y no lo conviertas aqui. Ademas, **utiliza la funcion count() y sum()** a ese groupby.</div>\n",
    "\n",
    "<div class=\"alert alert-block alert-success\">\n",
    "\n",
    "<b>Comentario del revisor #3</b> <a class=\"tocSkip\"></a>\n",
    "\n",
    "Corregido.</div>"
   ]
  },
  {
   "cell_type": "code",
   "execution_count": 27,
   "metadata": {
    "id": "CcQvNHn60q1G"
   },
   "outputs": [
    {
     "name": "stdout",
     "output_type": "stream",
     "text": [
      "      user_id  month  messages_count\n",
      "0        1000     12              11\n",
      "1        1001      8              30\n",
      "2        1001      9              44\n",
      "3        1001     10              53\n",
      "4        1001     11              36\n",
      "...       ...    ...             ...\n",
      "1801     1496      9              21\n",
      "1802     1496     10              18\n",
      "1803     1496     11              13\n",
      "1804     1496     12              11\n",
      "1805     1497     12              50\n",
      "\n",
      "[1806 rows x 3 columns]\n"
     ]
    }
   ],
   "source": [
    "# Calcula el número de mensajes enviados por cada usuario al mes. Guarda el resultado.\n",
    "messages_per_user_month = messages.groupby(['user_id', 'month']).count().reset_index()[['user_id', 'month', 'message_date']].rename(columns={'message_date': 'messages_count'})\n",
    "print(messages_per_user_month)"
   ]
  },
  {
   "cell_type": "markdown",
   "metadata": {},
   "source": [
    "<div class=\"alert alert-block alert-danger\">\n",
    "\n",
    "<b>Comentario del revisor</b> <a class=\"tocSkip\"></a>\n",
    "\n",
    "Agrupa por la columna mes que extraiste.</div>\n",
    "\n",
    "<div class=\"alert alert-block alert-danger\">\n",
    "\n",
    "<div class=\"alert alert-block alert-danger\">\n",
    "\n",
    "<b>Comentario del revisor #2</b> <a class=\"tocSkip\"></a>\n",
    "\n",
    "Utiliza la columna que extraiste el mes y no lo conviertas aqui. Ademas, **utiliza la funcion count()** a ese groupby.</div>\n",
    "    \n",
    "<div class=\"alert alert-block alert-success\">\n",
    "\n",
    "<b>Comentario del revisor #3</b> <a class=\"tocSkip\"></a>\n",
    "\n",
    "Corregido.</div>"
   ]
  },
  {
   "cell_type": "code",
   "execution_count": 28,
   "metadata": {
    "id": "H1AqN2eG0q1H",
    "scrolled": true
   },
   "outputs": [
    {
     "name": "stdout",
     "output_type": "stream",
     "text": [
      "      user_id  session_month  mb_used_total\n",
      "0        1000             12         1902.0\n",
      "1        1001              8         6920.0\n",
      "2        1001              9        13315.0\n",
      "3        1001             10        22331.0\n",
      "4        1001             11        18505.0\n",
      "...       ...            ...            ...\n",
      "2272     1498             12        23138.0\n",
      "2273     1499              9        12985.0\n",
      "2274     1499             10        19493.0\n",
      "2275     1499             11        16814.0\n",
      "2276     1499             12        22060.0\n",
      "\n",
      "[2277 rows x 3 columns]\n"
     ]
    }
   ],
   "source": [
    "# Agrupar por usuario y mes utilizando la columna 'session_month'\n",
    "internet_per_user_month = internet.groupby(['user_id', 'session_month'])['mb_used'].sum().reset_index(name='mb_used_total')\n",
    "\n",
    "# Aplicar el redondeo al alza sobre el tráfico de Internet utilizado por mes\n",
    "internet_per_user_month['mb_used_total'] = np.ceil(internet_per_user_month['mb_used_total'])\n",
    "\n",
    "print(internet_per_user_month)"
   ]
  },
  {
   "cell_type": "markdown",
   "metadata": {},
   "source": [
    "<div class=\"alert alert-block alert-danger\">\n",
    "\n",
    "<b>Comentario del revisor</b> <a class=\"tocSkip\"></a>\n",
    "\n",
    "Agrupa por la columna mes que extraiste.</div>\n",
    "\n",
    "<div class=\"alert alert-block alert-danger\">\n",
    "\n",
    "<b>Comentario del revisor #2</b> <a class=\"tocSkip\"></a>\n",
    "\n",
    "Utiliza la columna que extraiste el mes y no lo conviertas aqui. Ademas, **utiliza la funcion sum()** a ese groupby.</div>\n",
    "\n",
    "<div class=\"alert alert-block alert-danger\">\n",
    "\n",
    "<b>Comentario del revisor</b> <a class=\"tocSkip\"></a>\n",
    "\n",
    "Nuestro cliente utiliza como principal medida GB. Y en este caso estas utilizando mb para calcular el internet.\n",
    "\n",
    "Hace la conversion a GB y luego aplica el ceil para cumplir con los requisitos con el cliente.\n",
    "\n",
    "Este es el momento de hacer  esto ya que de lo contrario podriamos sobreestimar el consumo.\n",
    "</div>\n",
    "\n",
    "<div class=\"alert alert-block alert-danger\">\n",
    "\n",
    "<b>Comentario del revisor #2</b> <a class=\"tocSkip\"></a>\n",
    "\n",
    "El momento de hacerlo es **despues** de haber hecho la agrupacion, de lo contrario corremos el riesgo de sobreestimar el consumo/mes.</div>\n",
    "\n",
    "<div class=\"alert alert-block alert-danger\">\n",
    "\n",
    "<b>Comentario del revisor #3</b> <a class=\"tocSkip\"></a>\n",
    "\n",
    "Ae mantiene la correccion, tenes que hacer el ceil sobre la variable \n",
    "`internet_per_user_month` esto es para no sobrestimar el consumo.\n",
    "\n",
    "Ademas, agrupa por la columna `session_month` que es tu columna de mes.</div>\n",
    "\n",
    "<div class=\"alert alert-block alert-success\">\n",
    "\n",
    "<b>Comentario del revisor #4</b> <a class=\"tocSkip\"></a>\n",
    "\n",
    "Corregido. Excelente.</div>"
   ]
  },
  {
   "cell_type": "code",
   "execution_count": 29,
   "metadata": {
    "id": "FW99ykyf0q1H"
   },
   "outputs": [
    {
     "name": "stdout",
     "output_type": "stream",
     "text": [
      "      user_id  month  calls_count  messages_count  mb_used_total\n",
      "0        1000     12         16.0            11.0         1902.0\n",
      "1        1001      8         27.0            30.0         6920.0\n",
      "2        1001      9         49.0            44.0        13315.0\n",
      "3        1001     10         65.0            53.0        22331.0\n",
      "4        1001     11         64.0            36.0        18505.0\n",
      "...       ...    ...          ...             ...            ...\n",
      "2288     1349     12          NaN            61.0        13040.0\n",
      "2289     1361      5          NaN             2.0         1520.0\n",
      "2290     1482     10          NaN             2.0            NaN\n",
      "2291     1108     12          NaN             NaN          234.0\n",
      "2292     1311      6          NaN             NaN         1499.0\n",
      "\n",
      "[2293 rows x 5 columns]\n"
     ]
    }
   ],
   "source": [
    "# Renombrar la columna 'session_month' a 'month' en internet_per_user_month\n",
    "internet_per_user_month = internet_per_user_month.rename(columns={'session_month': 'month'})\n",
    "\n",
    "# Fusionar los datos de llamadas y mensajes con base en user_id y month\n",
    "merged_data = calls_per_user_month.merge(messages_per_user_month, on=['user_id', 'month'], how='outer')\n",
    "\n",
    "# Fusionar los datos de Internet con base en user_id y month\n",
    "merged_data = merged_data.merge(internet_per_user_month, on=['user_id', 'month'], how='outer')\n",
    "\n",
    "\n",
    "\n",
    "print(merged_data)"
   ]
  },
  {
   "cell_type": "markdown",
   "metadata": {},
   "source": [
    "<div class=\"alert alert-block alert-danger\">\n",
    "\n",
    "<b>Comentario del revisor #2</b> <a class=\"tocSkip\"></a>\n",
    "\n",
    "Recorda realizar el merge a partir de la columna `user_id` y `month` ya que de lo contrario estariamos perdiendo datos.</div>\n",
    "\n",
    "\n",
    "\n",
    "<div class=\"alert alert-block alert-danger\">\n",
    "\n",
    "<b>Comentario del revisor #3</b> <a class=\"tocSkip\"></a>\n",
    "\n",
    "Esta perfecto como lo planteaste pero no hagas esta union ya que hara que tengas mas filas debido a que estarias calculando dos veces los mismo:\n",
    "    \n",
    "   merged_data = calls_per_user_month.merge(minutes_per_user_month, on=['user_id', 'month'], how='outer')\n",
    "\n",
    "Elimina esa linea y solo uni calls_per_user month con el de mensajes y luego ese merge con internet.</div>\n",
    "\n",
    "\n",
    "\n",
    "<div class=\"alert alert-block alert-danger\">\n",
    "\n",
    "<b>Comentario del revisor #4</b> <a class=\"tocSkip\"></a>\n",
    "\n",
    "Esta bien los merge que hiciste pero eliminaste el calls per user que va aser necesario ya que es la variable merged_data.</div>\n",
    "\n",
    "<div class=\"alert alert-block alert-success\">\n",
    "\n",
    "<b>Comentario del revisor #5</b> <a class=\"tocSkip\"></a>\n",
    "\n",
    "Corregido, muy bien.\n",
    "\n",
    "</div>"
   ]
  },
  {
   "cell_type": "code",
   "execution_count": 30,
   "metadata": {},
   "outputs": [
    {
     "data": {
      "text/html": [
       "<div>\n",
       "<style scoped>\n",
       "    .dataframe tbody tr th:only-of-type {\n",
       "        vertical-align: middle;\n",
       "    }\n",
       "\n",
       "    .dataframe tbody tr th {\n",
       "        vertical-align: top;\n",
       "    }\n",
       "\n",
       "    .dataframe thead th {\n",
       "        text-align: right;\n",
       "    }\n",
       "</style>\n",
       "<table border=\"1\" class=\"dataframe\">\n",
       "  <thead>\n",
       "    <tr style=\"text-align: right;\">\n",
       "      <th></th>\n",
       "      <th>messages_included</th>\n",
       "      <th>mb_per_month_included</th>\n",
       "      <th>minutes_included</th>\n",
       "      <th>monthly_fee_usd</th>\n",
       "      <th>additional_gb_fee_usd</th>\n",
       "      <th>additional_message_fee_usd</th>\n",
       "      <th>additional_minute_fee_usd</th>\n",
       "      <th>plan_name</th>\n",
       "      <th>total_expected_cost_usd</th>\n",
       "    </tr>\n",
       "  </thead>\n",
       "  <tbody>\n",
       "    <tr>\n",
       "      <th>0</th>\n",
       "      <td>50</td>\n",
       "      <td>15.0</td>\n",
       "      <td>500</td>\n",
       "      <td>20</td>\n",
       "      <td>10</td>\n",
       "      <td>0.03</td>\n",
       "      <td>0.03</td>\n",
       "      <td>surf</td>\n",
       "      <td>186.5</td>\n",
       "    </tr>\n",
       "    <tr>\n",
       "      <th>1</th>\n",
       "      <td>1000</td>\n",
       "      <td>30.0</td>\n",
       "      <td>3000</td>\n",
       "      <td>70</td>\n",
       "      <td>7</td>\n",
       "      <td>0.01</td>\n",
       "      <td>0.01</td>\n",
       "      <td>ultimate</td>\n",
       "      <td>320.0</td>\n",
       "    </tr>\n",
       "  </tbody>\n",
       "</table>\n",
       "</div>"
      ],
      "text/plain": [
       "   messages_included  mb_per_month_included  minutes_included  \\\n",
       "0                 50                   15.0               500   \n",
       "1               1000                   30.0              3000   \n",
       "\n",
       "   monthly_fee_usd  additional_gb_fee_usd  additional_message_fee_usd  \\\n",
       "0               20                     10                        0.03   \n",
       "1               70                      7                        0.01   \n",
       "\n",
       "   additional_minute_fee_usd plan_name  total_expected_cost_usd  \n",
       "0                       0.03      surf                    186.5  \n",
       "1                       0.01  ultimate                    320.0  "
      ]
     },
     "execution_count": 30,
     "metadata": {},
     "output_type": "execute_result"
    }
   ],
   "source": [
    "plans"
   ]
  },
  {
   "cell_type": "code",
   "execution_count": 31,
   "metadata": {},
   "outputs": [
    {
     "data": {
      "text/html": [
       "<div>\n",
       "<style scoped>\n",
       "    .dataframe tbody tr th:only-of-type {\n",
       "        vertical-align: middle;\n",
       "    }\n",
       "\n",
       "    .dataframe tbody tr th {\n",
       "        vertical-align: top;\n",
       "    }\n",
       "\n",
       "    .dataframe thead th {\n",
       "        text-align: right;\n",
       "    }\n",
       "</style>\n",
       "<table border=\"1\" class=\"dataframe\">\n",
       "  <thead>\n",
       "    <tr style=\"text-align: right;\">\n",
       "      <th></th>\n",
       "      <th>user_id</th>\n",
       "      <th>first_name</th>\n",
       "      <th>last_name</th>\n",
       "      <th>age</th>\n",
       "      <th>city</th>\n",
       "      <th>reg_date</th>\n",
       "      <th>plan</th>\n",
       "      <th>churn_date</th>\n",
       "      <th>msa</th>\n",
       "      <th>subscription_duration</th>\n",
       "    </tr>\n",
       "  </thead>\n",
       "  <tbody>\n",
       "    <tr>\n",
       "      <th>0</th>\n",
       "      <td>1000</td>\n",
       "      <td>Anamaria</td>\n",
       "      <td>Bauer</td>\n",
       "      <td>45</td>\n",
       "      <td>Atlanta-Sandy Springs-Roswell</td>\n",
       "      <td>2018-12-24</td>\n",
       "      <td>ultimate</td>\n",
       "      <td>2024-01-01</td>\n",
       "      <td>GA MSA</td>\n",
       "      <td>1834 days</td>\n",
       "    </tr>\n",
       "    <tr>\n",
       "      <th>1</th>\n",
       "      <td>1001</td>\n",
       "      <td>Mickey</td>\n",
       "      <td>Wilkerson</td>\n",
       "      <td>28</td>\n",
       "      <td>Seattle-Tacoma-Bellevue</td>\n",
       "      <td>2018-08-13</td>\n",
       "      <td>surf</td>\n",
       "      <td>2024-01-01</td>\n",
       "      <td>WA MSA</td>\n",
       "      <td>1967 days</td>\n",
       "    </tr>\n",
       "    <tr>\n",
       "      <th>2</th>\n",
       "      <td>1002</td>\n",
       "      <td>Carlee</td>\n",
       "      <td>Hoffman</td>\n",
       "      <td>36</td>\n",
       "      <td>Las Vegas-Henderson-Paradise</td>\n",
       "      <td>2018-10-21</td>\n",
       "      <td>surf</td>\n",
       "      <td>2024-01-01</td>\n",
       "      <td>NV MSA</td>\n",
       "      <td>1898 days</td>\n",
       "    </tr>\n",
       "    <tr>\n",
       "      <th>3</th>\n",
       "      <td>1003</td>\n",
       "      <td>Reynaldo</td>\n",
       "      <td>Jenkins</td>\n",
       "      <td>52</td>\n",
       "      <td>Tulsa</td>\n",
       "      <td>2018-01-28</td>\n",
       "      <td>surf</td>\n",
       "      <td>2024-01-01</td>\n",
       "      <td>OK MSA</td>\n",
       "      <td>2164 days</td>\n",
       "    </tr>\n",
       "    <tr>\n",
       "      <th>4</th>\n",
       "      <td>1004</td>\n",
       "      <td>Leonila</td>\n",
       "      <td>Thompson</td>\n",
       "      <td>40</td>\n",
       "      <td>Seattle-Tacoma-Bellevue</td>\n",
       "      <td>2018-05-23</td>\n",
       "      <td>surf</td>\n",
       "      <td>2024-01-01</td>\n",
       "      <td>WA MSA</td>\n",
       "      <td>2049 days</td>\n",
       "    </tr>\n",
       "    <tr>\n",
       "      <th>...</th>\n",
       "      <td>...</td>\n",
       "      <td>...</td>\n",
       "      <td>...</td>\n",
       "      <td>...</td>\n",
       "      <td>...</td>\n",
       "      <td>...</td>\n",
       "      <td>...</td>\n",
       "      <td>...</td>\n",
       "      <td>...</td>\n",
       "      <td>...</td>\n",
       "    </tr>\n",
       "    <tr>\n",
       "      <th>495</th>\n",
       "      <td>1495</td>\n",
       "      <td>Fidel</td>\n",
       "      <td>Sharpe</td>\n",
       "      <td>67</td>\n",
       "      <td>New York-Newark-Jersey City</td>\n",
       "      <td>2018-09-04</td>\n",
       "      <td>surf</td>\n",
       "      <td>2024-01-01</td>\n",
       "      <td>NY-NJ-PA MSA</td>\n",
       "      <td>1945 days</td>\n",
       "    </tr>\n",
       "    <tr>\n",
       "      <th>496</th>\n",
       "      <td>1496</td>\n",
       "      <td>Ariel</td>\n",
       "      <td>Shepherd</td>\n",
       "      <td>49</td>\n",
       "      <td>New Orleans-Metairie</td>\n",
       "      <td>2018-02-20</td>\n",
       "      <td>surf</td>\n",
       "      <td>2024-01-01</td>\n",
       "      <td>LA MSA</td>\n",
       "      <td>2141 days</td>\n",
       "    </tr>\n",
       "    <tr>\n",
       "      <th>497</th>\n",
       "      <td>1497</td>\n",
       "      <td>Donte</td>\n",
       "      <td>Barrera</td>\n",
       "      <td>49</td>\n",
       "      <td>Los Angeles-Long Beach-Anaheim</td>\n",
       "      <td>2018-12-10</td>\n",
       "      <td>ultimate</td>\n",
       "      <td>2024-01-01</td>\n",
       "      <td>CA MSA</td>\n",
       "      <td>1848 days</td>\n",
       "    </tr>\n",
       "    <tr>\n",
       "      <th>498</th>\n",
       "      <td>1498</td>\n",
       "      <td>Scot</td>\n",
       "      <td>Williamson</td>\n",
       "      <td>51</td>\n",
       "      <td>New York-Newark-Jersey City</td>\n",
       "      <td>2018-02-04</td>\n",
       "      <td>surf</td>\n",
       "      <td>2024-01-01</td>\n",
       "      <td>NY-NJ-PA MSA</td>\n",
       "      <td>2157 days</td>\n",
       "    </tr>\n",
       "    <tr>\n",
       "      <th>499</th>\n",
       "      <td>1499</td>\n",
       "      <td>Shena</td>\n",
       "      <td>Dickson</td>\n",
       "      <td>37</td>\n",
       "      <td>Orlando-Kissimmee-Sanford</td>\n",
       "      <td>2018-05-06</td>\n",
       "      <td>surf</td>\n",
       "      <td>2024-01-01</td>\n",
       "      <td>FL MSA</td>\n",
       "      <td>2066 days</td>\n",
       "    </tr>\n",
       "  </tbody>\n",
       "</table>\n",
       "<p>500 rows × 10 columns</p>\n",
       "</div>"
      ],
      "text/plain": [
       "     user_id first_name   last_name  age                            city  \\\n",
       "0       1000   Anamaria       Bauer   45   Atlanta-Sandy Springs-Roswell   \n",
       "1       1001     Mickey   Wilkerson   28         Seattle-Tacoma-Bellevue   \n",
       "2       1002     Carlee     Hoffman   36    Las Vegas-Henderson-Paradise   \n",
       "3       1003   Reynaldo     Jenkins   52                           Tulsa   \n",
       "4       1004    Leonila    Thompson   40         Seattle-Tacoma-Bellevue   \n",
       "..       ...        ...         ...  ...                             ...   \n",
       "495     1495      Fidel      Sharpe   67     New York-Newark-Jersey City   \n",
       "496     1496      Ariel    Shepherd   49            New Orleans-Metairie   \n",
       "497     1497      Donte     Barrera   49  Los Angeles-Long Beach-Anaheim   \n",
       "498     1498       Scot  Williamson   51     New York-Newark-Jersey City   \n",
       "499     1499      Shena     Dickson   37       Orlando-Kissimmee-Sanford   \n",
       "\n",
       "      reg_date      plan churn_date            msa subscription_duration  \n",
       "0   2018-12-24  ultimate 2024-01-01         GA MSA             1834 days  \n",
       "1   2018-08-13      surf 2024-01-01         WA MSA             1967 days  \n",
       "2   2018-10-21      surf 2024-01-01         NV MSA             1898 days  \n",
       "3   2018-01-28      surf 2024-01-01         OK MSA             2164 days  \n",
       "4   2018-05-23      surf 2024-01-01         WA MSA             2049 days  \n",
       "..         ...       ...        ...            ...                   ...  \n",
       "495 2018-09-04      surf 2024-01-01   NY-NJ-PA MSA             1945 days  \n",
       "496 2018-02-20      surf 2024-01-01         LA MSA             2141 days  \n",
       "497 2018-12-10  ultimate 2024-01-01         CA MSA             1848 days  \n",
       "498 2018-02-04      surf 2024-01-01   NY-NJ-PA MSA             2157 days  \n",
       "499 2018-05-06      surf 2024-01-01         FL MSA             2066 days  \n",
       "\n",
       "[500 rows x 10 columns]"
      ]
     },
     "execution_count": 31,
     "metadata": {},
     "output_type": "execute_result"
    }
   ],
   "source": [
    "users"
   ]
  },
  {
   "cell_type": "code",
   "execution_count": 32,
   "metadata": {},
   "outputs": [
    {
     "data": {
      "text/html": [
       "<div>\n",
       "<style scoped>\n",
       "    .dataframe tbody tr th:only-of-type {\n",
       "        vertical-align: middle;\n",
       "    }\n",
       "\n",
       "    .dataframe tbody tr th {\n",
       "        vertical-align: top;\n",
       "    }\n",
       "\n",
       "    .dataframe thead th {\n",
       "        text-align: right;\n",
       "    }\n",
       "</style>\n",
       "<table border=\"1\" class=\"dataframe\">\n",
       "  <thead>\n",
       "    <tr style=\"text-align: right;\">\n",
       "      <th></th>\n",
       "      <th>user_id</th>\n",
       "      <th>first_name</th>\n",
       "      <th>last_name</th>\n",
       "      <th>age</th>\n",
       "      <th>city</th>\n",
       "      <th>reg_date</th>\n",
       "      <th>plan_name</th>\n",
       "      <th>churn_date</th>\n",
       "      <th>msa</th>\n",
       "      <th>subscription_duration</th>\n",
       "      <th>messages_included</th>\n",
       "      <th>mb_per_month_included</th>\n",
       "      <th>minutes_included</th>\n",
       "      <th>monthly_fee_usd</th>\n",
       "      <th>additional_gb_fee_usd</th>\n",
       "      <th>additional_message_fee_usd</th>\n",
       "      <th>additional_minute_fee_usd</th>\n",
       "      <th>total_expected_cost_usd</th>\n",
       "    </tr>\n",
       "  </thead>\n",
       "  <tbody>\n",
       "    <tr>\n",
       "      <th>0</th>\n",
       "      <td>1000</td>\n",
       "      <td>Anamaria</td>\n",
       "      <td>Bauer</td>\n",
       "      <td>45</td>\n",
       "      <td>Atlanta-Sandy Springs-Roswell</td>\n",
       "      <td>2018-12-24</td>\n",
       "      <td>ultimate</td>\n",
       "      <td>2024-01-01</td>\n",
       "      <td>GA MSA</td>\n",
       "      <td>1834 days</td>\n",
       "      <td>1000</td>\n",
       "      <td>30.0</td>\n",
       "      <td>3000</td>\n",
       "      <td>70</td>\n",
       "      <td>7</td>\n",
       "      <td>0.01</td>\n",
       "      <td>0.01</td>\n",
       "      <td>320.0</td>\n",
       "    </tr>\n",
       "    <tr>\n",
       "      <th>1</th>\n",
       "      <td>1006</td>\n",
       "      <td>Jesusa</td>\n",
       "      <td>Bradford</td>\n",
       "      <td>73</td>\n",
       "      <td>San Francisco-Oakland-Berkeley</td>\n",
       "      <td>2018-11-27</td>\n",
       "      <td>ultimate</td>\n",
       "      <td>2018-12-18</td>\n",
       "      <td>CA MSA</td>\n",
       "      <td>21 days</td>\n",
       "      <td>1000</td>\n",
       "      <td>30.0</td>\n",
       "      <td>3000</td>\n",
       "      <td>70</td>\n",
       "      <td>7</td>\n",
       "      <td>0.01</td>\n",
       "      <td>0.01</td>\n",
       "      <td>320.0</td>\n",
       "    </tr>\n",
       "    <tr>\n",
       "      <th>2</th>\n",
       "      <td>1008</td>\n",
       "      <td>Emely</td>\n",
       "      <td>Hoffman</td>\n",
       "      <td>53</td>\n",
       "      <td>Orlando-Kissimmee-Sanford</td>\n",
       "      <td>2018-08-03</td>\n",
       "      <td>ultimate</td>\n",
       "      <td>2024-01-01</td>\n",
       "      <td>FL MSA</td>\n",
       "      <td>1977 days</td>\n",
       "      <td>1000</td>\n",
       "      <td>30.0</td>\n",
       "      <td>3000</td>\n",
       "      <td>70</td>\n",
       "      <td>7</td>\n",
       "      <td>0.01</td>\n",
       "      <td>0.01</td>\n",
       "      <td>320.0</td>\n",
       "    </tr>\n",
       "    <tr>\n",
       "      <th>3</th>\n",
       "      <td>1011</td>\n",
       "      <td>Halina</td>\n",
       "      <td>Henry</td>\n",
       "      <td>73</td>\n",
       "      <td>Cleveland-Elyria</td>\n",
       "      <td>2018-01-18</td>\n",
       "      <td>ultimate</td>\n",
       "      <td>2024-01-01</td>\n",
       "      <td>OH MSA</td>\n",
       "      <td>2174 days</td>\n",
       "      <td>1000</td>\n",
       "      <td>30.0</td>\n",
       "      <td>3000</td>\n",
       "      <td>70</td>\n",
       "      <td>7</td>\n",
       "      <td>0.01</td>\n",
       "      <td>0.01</td>\n",
       "      <td>320.0</td>\n",
       "    </tr>\n",
       "    <tr>\n",
       "      <th>4</th>\n",
       "      <td>1013</td>\n",
       "      <td>Nicolas</td>\n",
       "      <td>Snider</td>\n",
       "      <td>50</td>\n",
       "      <td>Knoxville</td>\n",
       "      <td>2018-12-01</td>\n",
       "      <td>ultimate</td>\n",
       "      <td>2024-01-01</td>\n",
       "      <td>TN MSA</td>\n",
       "      <td>1857 days</td>\n",
       "      <td>1000</td>\n",
       "      <td>30.0</td>\n",
       "      <td>3000</td>\n",
       "      <td>70</td>\n",
       "      <td>7</td>\n",
       "      <td>0.01</td>\n",
       "      <td>0.01</td>\n",
       "      <td>320.0</td>\n",
       "    </tr>\n",
       "  </tbody>\n",
       "</table>\n",
       "</div>"
      ],
      "text/plain": [
       "   user_id first_name last_name  age                            city  \\\n",
       "0     1000   Anamaria     Bauer   45   Atlanta-Sandy Springs-Roswell   \n",
       "1     1006     Jesusa  Bradford   73  San Francisco-Oakland-Berkeley   \n",
       "2     1008      Emely   Hoffman   53       Orlando-Kissimmee-Sanford   \n",
       "3     1011     Halina     Henry   73                Cleveland-Elyria   \n",
       "4     1013    Nicolas    Snider   50                       Knoxville   \n",
       "\n",
       "    reg_date plan_name churn_date      msa subscription_duration  \\\n",
       "0 2018-12-24  ultimate 2024-01-01   GA MSA             1834 days   \n",
       "1 2018-11-27  ultimate 2018-12-18   CA MSA               21 days   \n",
       "2 2018-08-03  ultimate 2024-01-01   FL MSA             1977 days   \n",
       "3 2018-01-18  ultimate 2024-01-01   OH MSA             2174 days   \n",
       "4 2018-12-01  ultimate 2024-01-01   TN MSA             1857 days   \n",
       "\n",
       "   messages_included  mb_per_month_included  minutes_included  \\\n",
       "0               1000                   30.0              3000   \n",
       "1               1000                   30.0              3000   \n",
       "2               1000                   30.0              3000   \n",
       "3               1000                   30.0              3000   \n",
       "4               1000                   30.0              3000   \n",
       "\n",
       "   monthly_fee_usd  additional_gb_fee_usd  additional_message_fee_usd  \\\n",
       "0               70                      7                        0.01   \n",
       "1               70                      7                        0.01   \n",
       "2               70                      7                        0.01   \n",
       "3               70                      7                        0.01   \n",
       "4               70                      7                        0.01   \n",
       "\n",
       "   additional_minute_fee_usd  total_expected_cost_usd  \n",
       "0                       0.01                    320.0  \n",
       "1                       0.01                    320.0  \n",
       "2                       0.01                    320.0  \n",
       "3                       0.01                    320.0  \n",
       "4                       0.01                    320.0  "
      ]
     },
     "execution_count": 32,
     "metadata": {},
     "output_type": "execute_result"
    }
   ],
   "source": [
    "users.rename(columns = {\n",
    "    'plan':'plan_name'\n",
    "}, inplace = True)\n",
    "\n",
    "user_info = users.merge(plans, on = 'plan_name')\n",
    "user_info.head()"
   ]
  },
  {
   "cell_type": "code",
   "execution_count": 33,
   "metadata": {
    "id": "0dNOXHag0q1H"
   },
   "outputs": [
    {
     "name": "stdout",
     "output_type": "stream",
     "text": [
      "      user_id  month  calls_count  messages_count  mb_used_total\n",
      "0        1000     12         16.0            11.0         1902.0\n",
      "1        1001      8         27.0            30.0         6920.0\n",
      "2        1001      9         49.0            44.0        13315.0\n",
      "3        1001     10         65.0            53.0        22331.0\n",
      "4        1001     11         64.0            36.0        18505.0\n",
      "...       ...    ...          ...             ...            ...\n",
      "2288     1349     12          0.0            61.0        13040.0\n",
      "2289     1361      5          0.0             2.0         1520.0\n",
      "2290     1482     10          0.0             2.0            0.0\n",
      "2291     1108     12          0.0             0.0          234.0\n",
      "2292     1311      6          0.0             0.0         1499.0\n",
      "\n",
      "[2293 rows x 5 columns]\n"
     ]
    }
   ],
   "source": [
    "# Rellenar los valores NaN con 0\n",
    "merged_data.fillna(0, inplace=True)\n",
    "\n",
    "# Imprimir el DataFrame actualizado\n",
    "print(merged_data)"
   ]
  },
  {
   "cell_type": "markdown",
   "metadata": {},
   "source": [
    "<div class=\"alert alert-block alert-danger\">\n",
    "\n",
    "<b>Comentario del revisor</b> <a class=\"tocSkip\"></a>\n",
    "\n",
    "Recorda rellenar con 0 los valores que tengamos de NaN, sobre estos valores no tenemos informacion pero justamente no los dejaremos como NaN.</div>\n",
    "<div class=\"alert alert-block alert-success\">\n",
    "\n",
    "<b>Comentario del revisor #3</b> <a class=\"tocSkip\"></a>\n",
    "\n",
    "Corregido.</div>\n"
   ]
  },
  {
   "cell_type": "code",
   "execution_count": 34,
   "metadata": {},
   "outputs": [
    {
     "data": {
      "text/html": [
       "<div>\n",
       "<style scoped>\n",
       "    .dataframe tbody tr th:only-of-type {\n",
       "        vertical-align: middle;\n",
       "    }\n",
       "\n",
       "    .dataframe tbody tr th {\n",
       "        vertical-align: top;\n",
       "    }\n",
       "\n",
       "    .dataframe thead th {\n",
       "        text-align: right;\n",
       "    }\n",
       "</style>\n",
       "<table border=\"1\" class=\"dataframe\">\n",
       "  <thead>\n",
       "    <tr style=\"text-align: right;\">\n",
       "      <th></th>\n",
       "      <th>user_id</th>\n",
       "      <th>month</th>\n",
       "      <th>calls_count</th>\n",
       "      <th>messages_count</th>\n",
       "      <th>mb_used_total</th>\n",
       "      <th>first_name</th>\n",
       "      <th>last_name</th>\n",
       "      <th>age</th>\n",
       "      <th>city</th>\n",
       "      <th>reg_date</th>\n",
       "      <th>...</th>\n",
       "      <th>msa</th>\n",
       "      <th>subscription_duration</th>\n",
       "      <th>messages_included</th>\n",
       "      <th>mb_per_month_included</th>\n",
       "      <th>minutes_included</th>\n",
       "      <th>monthly_fee_usd</th>\n",
       "      <th>additional_gb_fee_usd</th>\n",
       "      <th>additional_message_fee_usd</th>\n",
       "      <th>additional_minute_fee_usd</th>\n",
       "      <th>total_expected_cost_usd</th>\n",
       "    </tr>\n",
       "  </thead>\n",
       "  <tbody>\n",
       "    <tr>\n",
       "      <th>0</th>\n",
       "      <td>1000</td>\n",
       "      <td>12</td>\n",
       "      <td>16.0</td>\n",
       "      <td>11.0</td>\n",
       "      <td>1902.0</td>\n",
       "      <td>Anamaria</td>\n",
       "      <td>Bauer</td>\n",
       "      <td>45</td>\n",
       "      <td>Atlanta-Sandy Springs-Roswell</td>\n",
       "      <td>2018-12-24</td>\n",
       "      <td>...</td>\n",
       "      <td>GA MSA</td>\n",
       "      <td>1834 days</td>\n",
       "      <td>1000</td>\n",
       "      <td>30.0</td>\n",
       "      <td>3000</td>\n",
       "      <td>70</td>\n",
       "      <td>7</td>\n",
       "      <td>0.01</td>\n",
       "      <td>0.01</td>\n",
       "      <td>320.0</td>\n",
       "    </tr>\n",
       "    <tr>\n",
       "      <th>1</th>\n",
       "      <td>1001</td>\n",
       "      <td>8</td>\n",
       "      <td>27.0</td>\n",
       "      <td>30.0</td>\n",
       "      <td>6920.0</td>\n",
       "      <td>Mickey</td>\n",
       "      <td>Wilkerson</td>\n",
       "      <td>28</td>\n",
       "      <td>Seattle-Tacoma-Bellevue</td>\n",
       "      <td>2018-08-13</td>\n",
       "      <td>...</td>\n",
       "      <td>WA MSA</td>\n",
       "      <td>1967 days</td>\n",
       "      <td>50</td>\n",
       "      <td>15.0</td>\n",
       "      <td>500</td>\n",
       "      <td>20</td>\n",
       "      <td>10</td>\n",
       "      <td>0.03</td>\n",
       "      <td>0.03</td>\n",
       "      <td>186.5</td>\n",
       "    </tr>\n",
       "    <tr>\n",
       "      <th>2</th>\n",
       "      <td>1001</td>\n",
       "      <td>9</td>\n",
       "      <td>49.0</td>\n",
       "      <td>44.0</td>\n",
       "      <td>13315.0</td>\n",
       "      <td>Mickey</td>\n",
       "      <td>Wilkerson</td>\n",
       "      <td>28</td>\n",
       "      <td>Seattle-Tacoma-Bellevue</td>\n",
       "      <td>2018-08-13</td>\n",
       "      <td>...</td>\n",
       "      <td>WA MSA</td>\n",
       "      <td>1967 days</td>\n",
       "      <td>50</td>\n",
       "      <td>15.0</td>\n",
       "      <td>500</td>\n",
       "      <td>20</td>\n",
       "      <td>10</td>\n",
       "      <td>0.03</td>\n",
       "      <td>0.03</td>\n",
       "      <td>186.5</td>\n",
       "    </tr>\n",
       "    <tr>\n",
       "      <th>3</th>\n",
       "      <td>1001</td>\n",
       "      <td>10</td>\n",
       "      <td>65.0</td>\n",
       "      <td>53.0</td>\n",
       "      <td>22331.0</td>\n",
       "      <td>Mickey</td>\n",
       "      <td>Wilkerson</td>\n",
       "      <td>28</td>\n",
       "      <td>Seattle-Tacoma-Bellevue</td>\n",
       "      <td>2018-08-13</td>\n",
       "      <td>...</td>\n",
       "      <td>WA MSA</td>\n",
       "      <td>1967 days</td>\n",
       "      <td>50</td>\n",
       "      <td>15.0</td>\n",
       "      <td>500</td>\n",
       "      <td>20</td>\n",
       "      <td>10</td>\n",
       "      <td>0.03</td>\n",
       "      <td>0.03</td>\n",
       "      <td>186.5</td>\n",
       "    </tr>\n",
       "    <tr>\n",
       "      <th>4</th>\n",
       "      <td>1001</td>\n",
       "      <td>11</td>\n",
       "      <td>64.0</td>\n",
       "      <td>36.0</td>\n",
       "      <td>18505.0</td>\n",
       "      <td>Mickey</td>\n",
       "      <td>Wilkerson</td>\n",
       "      <td>28</td>\n",
       "      <td>Seattle-Tacoma-Bellevue</td>\n",
       "      <td>2018-08-13</td>\n",
       "      <td>...</td>\n",
       "      <td>WA MSA</td>\n",
       "      <td>1967 days</td>\n",
       "      <td>50</td>\n",
       "      <td>15.0</td>\n",
       "      <td>500</td>\n",
       "      <td>20</td>\n",
       "      <td>10</td>\n",
       "      <td>0.03</td>\n",
       "      <td>0.03</td>\n",
       "      <td>186.5</td>\n",
       "    </tr>\n",
       "  </tbody>\n",
       "</table>\n",
       "<p>5 rows × 22 columns</p>\n",
       "</div>"
      ],
      "text/plain": [
       "   user_id  month  calls_count  messages_count  mb_used_total first_name  \\\n",
       "0     1000     12         16.0            11.0         1902.0   Anamaria   \n",
       "1     1001      8         27.0            30.0         6920.0     Mickey   \n",
       "2     1001      9         49.0            44.0        13315.0     Mickey   \n",
       "3     1001     10         65.0            53.0        22331.0     Mickey   \n",
       "4     1001     11         64.0            36.0        18505.0     Mickey   \n",
       "\n",
       "   last_name  age                           city   reg_date  ...      msa  \\\n",
       "0      Bauer   45  Atlanta-Sandy Springs-Roswell 2018-12-24  ...   GA MSA   \n",
       "1  Wilkerson   28        Seattle-Tacoma-Bellevue 2018-08-13  ...   WA MSA   \n",
       "2  Wilkerson   28        Seattle-Tacoma-Bellevue 2018-08-13  ...   WA MSA   \n",
       "3  Wilkerson   28        Seattle-Tacoma-Bellevue 2018-08-13  ...   WA MSA   \n",
       "4  Wilkerson   28        Seattle-Tacoma-Bellevue 2018-08-13  ...   WA MSA   \n",
       "\n",
       "  subscription_duration messages_included mb_per_month_included  \\\n",
       "0             1834 days              1000                  30.0   \n",
       "1             1967 days                50                  15.0   \n",
       "2             1967 days                50                  15.0   \n",
       "3             1967 days                50                  15.0   \n",
       "4             1967 days                50                  15.0   \n",
       "\n",
       "   minutes_included  monthly_fee_usd  additional_gb_fee_usd  \\\n",
       "0              3000               70                      7   \n",
       "1               500               20                     10   \n",
       "2               500               20                     10   \n",
       "3               500               20                     10   \n",
       "4               500               20                     10   \n",
       "\n",
       "   additional_message_fee_usd  additional_minute_fee_usd  \\\n",
       "0                        0.01                       0.01   \n",
       "1                        0.03                       0.03   \n",
       "2                        0.03                       0.03   \n",
       "3                        0.03                       0.03   \n",
       "4                        0.03                       0.03   \n",
       "\n",
       "   total_expected_cost_usd  \n",
       "0                    320.0  \n",
       "1                    186.5  \n",
       "2                    186.5  \n",
       "3                    186.5  \n",
       "4                    186.5  \n",
       "\n",
       "[5 rows x 22 columns]"
      ]
     },
     "execution_count": 34,
     "metadata": {},
     "output_type": "execute_result"
    }
   ],
   "source": [
    "merged_data = merged_data.merge(user_info, on = 'user_id', how = 'left')\n",
    "merged_data.head()"
   ]
  },
  {
   "cell_type": "code",
   "execution_count": 35,
   "metadata": {
    "id": "5FGCf_c60q1I",
    "scrolled": true
   },
   "outputs": [
    {
     "name": "stdout",
     "output_type": "stream",
     "text": [
      "0        82.796875\n",
      "1        87.431641\n",
      "2       149.882812\n",
      "3       238.019688\n",
      "4       200.566406\n",
      "           ...    \n",
      "2288    147.527266\n",
      "2289     34.697266\n",
      "2290     70.000000\n",
      "2291     71.394531\n",
      "2292     80.041992\n",
      "Name: monthly_revenue_usd, Length: 2293, dtype: float64\n"
     ]
    }
   ],
   "source": [
    "def calcular_ingresos_mensuales(row):\n",
    "    # Obtener los límites incluidos en el plan del usuario\n",
    "    plan_name = row['plan_name']\n",
    "    messages_included = plans.loc[plans['plan_name'] == plan_name, 'messages_included'].values[0]\n",
    "    mb_per_month_included = plans.loc[plans['plan_name'] == plan_name, 'mb_per_month_included'].values[0]\n",
    "    minutes_included = plans.loc[plans['plan_name'] == plan_name, 'minutes_included'].values[0]\n",
    "    \n",
    "    # Obtener los precios por unidad adicional del plan del usuario\n",
    "    additional_message_fee_usd = plans.loc[plans['plan_name'] == plan_name, 'additional_message_fee_usd'].values[0]\n",
    "    additional_gb_fee_usd = plans.loc[plans['plan_name'] == plan_name, 'additional_gb_fee_usd'].values[0]\n",
    "    additional_minute_fee_usd = plans.loc[plans['plan_name'] == plan_name, 'additional_minute_fee_usd'].values[0]\n",
    "    \n",
    "    # Calcular el exceso de consumo y los cargos adicionales para cada tipo de servicio\n",
    "    messages_excess = max(0, row['messages_count'] - messages_included)\n",
    "    messages_charge = messages_excess * additional_message_fee_usd\n",
    "    \n",
    "    mb_excess = max(0, row['mb_used_total'] - mb_per_month_included)\n",
    "    gb_excess = mb_excess / 1024  # Convertir de MB a GB\n",
    "    gb_charge = gb_excess * additional_gb_fee_usd\n",
    "    \n",
    "    minutes_excess = max(0, row['calls_count'] - minutes_included)\n",
    "    minutes_charge = minutes_excess * additional_minute_fee_usd\n",
    "    \n",
    "    # Sumar los cargos adicionales al cargo mensual del plan\n",
    "    total_charge = row['monthly_fee_usd'] + messages_charge + gb_charge + minutes_charge\n",
    "    \n",
    "    return total_charge\n",
    "\n",
    "\n",
    "merged_data['monthly_revenue_usd'] = merged_data.apply(calcular_ingresos_mensuales, axis=1)\n",
    "\n",
    "print(merged_data['monthly_revenue_usd'])\n"
   ]
  },
  {
   "cell_type": "markdown",
   "metadata": {},
   "source": [
    "<div class=\"alert alert-block alert-danger\">\n",
    "\n",
    "<b>Comentario del revisor</b> <a class=\"tocSkip\"></a>\n",
    "\n",
    "Cuidado, no estas calculando bien los ingresos *mensuales*.\n",
    "\n",
    "Recorda hacerlo por parte pero necesitas aplicarlo a todas las filas por lo que podes hacer un bucle o una funcion\n",
    "- Resta el límite del paquete gratuito del número total de llamadas, mensajes de texto y datos\n",
    "- Multiplica el resultado por el valor del plan de llamadas; añade la tarifa mensual en función del plan de llamadas </div>\n",
    "\n",
    "<div class=\"alert alert-block alert-danger\">\n",
    "\n",
    "<b>Comentario del revisor #2</b> <a class=\"tocSkip\"></a>\n",
    "    \n",
    "Persiste el error.\n",
    "    \n",
    "Aqui lo que debemos hacer es calcular los ingresos mensuales por el usuario. Para hacerlo podes crear una funcion para calcularlo.\n",
    "Debes:\n",
    "\n",
    "- Resta el límite del paquete gratuito del número total de llamadas, mensajes de texto y datos\n",
    "- Multiplica el resultado por el valor del plan de llamadas\n",
    "- Añade la tarifa mensual en función del plan de llamadas\n",
    "\n",
    "Esto, lo podes dividir por partes:\n",
    "\n",
    "- Para cada tipo de servicio (minutos, mensajes y GB):\n",
    "    - Resta la cantidad incluida en el plan de la cantidad utilizada.\n",
    "    - Si el resultado es positivo, hay un exceso de consumo.\n",
    "- Para cada tipo de servicio con exceso:\n",
    "    - Multiplica la cantidad excedida por el precio por unidad adicional del plan.\n",
    "- Suma el cargo mensual del plan con los costos por exceso de cada servicio.\n",
    "\n",
    "</div>\n",
    "\n",
    "<div class=\"alert alert-block alert-danger\">\n",
    "\n",
    "<b>Comentario del revisor #3</b> <a class=\"tocSkip\"></a>\n",
    "    \n",
    "Francisco, en este caso estas calculando bien pero estas teniendo un error en la funcion, ya que la misma busca una columna que se llame 'plan' en merged data pero la columna no existe en merged data\n",
    "\n",
    "</div>\n",
    "\n",
    "\n",
    "<div class=\"alert alert-block alert-danger\">\n",
    "\n",
    "<b>Comentario del revisor #4</b> <a class=\"tocSkip\"></a>\n",
    "    \n",
    "En este caso te doy una guia aun mas especific para lograr la premisa `Sí el usuario excedio su limite establecido en su tarifa, se calcula el excedente y se multiplica por el precio correspondiente para cada rubro extra`:\n",
    "\n",
    " Podes crear una funcion donde el parametro sea la fila(row)\n",
    "    \n",
    "Asi, comenzariamos definiendo una nueva variable llamada `income` la misma tendria como valor la columna `usd_monthly_pay` que es la que posee el valor de cada plan\n",
    "    \n",
    "- Luego, deberiamos crear un condicional por cada servicio\n",
    "    - Para internet SI el resultado del consumo/mes de gb es mayor al de `mb_per_month`. **acumula** la variable income restando el consumo/mes sobre el `mb_per_month` y ese resultado lo multiplicas por el `usd_per_gb`\n",
    "    - Para las llamadas SI el resultado del consumo mes de llamadas supera  al de `minutes_included`. **acumula** la variable income restando el consumo/mes sobre los `minutes_includad` y ese resultado multiplicalo por `usd_per_minute`\n",
    "    - Para los mensajes SI el resultado del consumo mes de llamadas supera  al de `messages_included`. **acumula** la variable income restando el consumo/mes sobre los `messages_included` y ese resultado multiplicalo por `usd_per_minute`\n",
    "    \n",
    "    \n",
    "Asi retorna `income`\n",
    "    \n",
    "Luego para finalizar aplica la funcion a una variable con el metodo **apply**.\n",
    "    \n",
    "De esta forma si el consumo/mes supera lo que el plan soporta se aplicara ese excedente al ingreso.\n",
    "    \n",
    "    \n",
    " \n",
    "\n",
    "</div>\n",
    "\n",
    "\n",
    "<div class=\"alert alert-block alert-success\">\n",
    "\n",
    "<b>Comentario del revisor #5</b> <a class=\"tocSkip\"></a>\n",
    "\n",
    "Corregido, muy bien.\n",
    "\n",
    "</div>"
   ]
  },
  {
   "cell_type": "markdown",
   "metadata": {
    "id": "-jtyHzJb0q1I"
   },
   "source": [
    "\n",
    "## Estudia el comportamiento de usuario"
   ]
  },
  {
   "cell_type": "code",
   "execution_count": 40,
   "metadata": {},
   "outputs": [
    {
     "name": "stdout",
     "output_type": "stream",
     "text": [
      "<class 'pandas.core.frame.DataFrame'>\n",
      "Int64Index: 2293 entries, 0 to 2292\n",
      "Data columns (total 23 columns):\n",
      " #   Column                      Non-Null Count  Dtype          \n",
      "---  ------                      --------------  -----          \n",
      " 0   user_id                     2293 non-null   int64          \n",
      " 1   month                       2293 non-null   int64          \n",
      " 2   calls_count                 2293 non-null   float64        \n",
      " 3   messages_count              2293 non-null   float64        \n",
      " 4   mb_used_total               2293 non-null   float64        \n",
      " 5   first_name                  2293 non-null   object         \n",
      " 6   last_name                   2293 non-null   object         \n",
      " 7   age                         2293 non-null   int64          \n",
      " 8   city                        2293 non-null   object         \n",
      " 9   reg_date                    2293 non-null   datetime64[ns] \n",
      " 10  plan_name                   2293 non-null   object         \n",
      " 11  churn_date                  2293 non-null   datetime64[ns] \n",
      " 12  msa                         2293 non-null   object         \n",
      " 13  subscription_duration       2293 non-null   timedelta64[ns]\n",
      " 14  messages_included           2293 non-null   int64          \n",
      " 15  mb_per_month_included       2293 non-null   float64        \n",
      " 16  minutes_included            2293 non-null   int64          \n",
      " 17  monthly_fee_usd             2293 non-null   int64          \n",
      " 18  additional_gb_fee_usd       2293 non-null   int64          \n",
      " 19  additional_message_fee_usd  2293 non-null   float64        \n",
      " 20  additional_minute_fee_usd   2293 non-null   float64        \n",
      " 21  total_expected_cost_usd     2293 non-null   float64        \n",
      " 22  monthly_revenue_usd         2293 non-null   float64        \n",
      "dtypes: datetime64[ns](2), float64(8), int64(7), object(5), timedelta64[ns](1)\n",
      "memory usage: 429.9+ KB\n"
     ]
    }
   ],
   "source": [
    "merged_data.info()merged_data.info()"
   ]
  },
  {
   "cell_type": "code",
   "execution_count": 42,
   "metadata": {},
   "outputs": [
    {
     "name": "stdout",
     "output_type": "stream",
     "text": [
      "   user_id  month  duration\n",
      "0     1000     12    116.83\n",
      "1     1001      8    171.14\n",
      "2     1001      9    297.69\n",
      "3     1001     10    374.11\n",
      "4     1001     11    404.59\n"
     ]
    }
   ],
   "source": [
    "print(monthly_calls.head())"
   ]
  },
  {
   "cell_type": "code",
   "execution_count": 43,
   "metadata": {},
   "outputs": [
    {
     "name": "stdout",
     "output_type": "stream",
     "text": [
      "   user_id  month  calls_count  messages_count  mb_used_total first_name  \\\n",
      "0     1000     12         16.0            11.0         1902.0   Anamaria   \n",
      "1     1001      8         27.0            30.0         6920.0     Mickey   \n",
      "2     1001      9         49.0            44.0        13315.0     Mickey   \n",
      "3     1001     10         65.0            53.0        22331.0     Mickey   \n",
      "4     1001     11         64.0            36.0        18505.0     Mickey   \n",
      "\n",
      "   last_name  age                           city   reg_date  ...  \\\n",
      "0      Bauer   45  Atlanta-Sandy Springs-Roswell 2018-12-24  ...   \n",
      "1  Wilkerson   28        Seattle-Tacoma-Bellevue 2018-08-13  ...   \n",
      "2  Wilkerson   28        Seattle-Tacoma-Bellevue 2018-08-13  ...   \n",
      "3  Wilkerson   28        Seattle-Tacoma-Bellevue 2018-08-13  ...   \n",
      "4  Wilkerson   28        Seattle-Tacoma-Bellevue 2018-08-13  ...   \n",
      "\n",
      "  messages_included mb_per_month_included minutes_included monthly_fee_usd  \\\n",
      "0              1000                  30.0             3000              70   \n",
      "1                50                  15.0              500              20   \n",
      "2                50                  15.0              500              20   \n",
      "3                50                  15.0              500              20   \n",
      "4                50                  15.0              500              20   \n",
      "\n",
      "   additional_gb_fee_usd  additional_message_fee_usd  \\\n",
      "0                      7                        0.01   \n",
      "1                     10                        0.03   \n",
      "2                     10                        0.03   \n",
      "3                     10                        0.03   \n",
      "4                     10                        0.03   \n",
      "\n",
      "   additional_minute_fee_usd  total_expected_cost_usd  monthly_revenue_usd  \\\n",
      "0                       0.01                    320.0            82.796875   \n",
      "1                       0.03                    186.5            87.431641   \n",
      "2                       0.03                    186.5           149.882812   \n",
      "3                       0.03                    186.5           238.019688   \n",
      "4                       0.03                    186.5           200.566406   \n",
      "\n",
      "   duration  \n",
      "0    116.83  \n",
      "1    171.14  \n",
      "2    297.69  \n",
      "3    374.11  \n",
      "4    404.59  \n",
      "\n",
      "[5 rows x 24 columns]\n"
     ]
    }
   ],
   "source": [
    "# Asegúrate de que tanto 'merged_data' como 'monthly_calls' tienen las columnas 'user_id' y 'month'\n",
    "merged_data_full = pd.merge(merged_data, monthly_calls, on=['user_id', 'month'], how='left')\n",
    "\n",
    "# Verifica las columnas después de la fusión para asegurarte de que 'duration_total' está presente\n",
    "print(merged_data_full.head())"
   ]
  },
  {
   "cell_type": "markdown",
   "metadata": {
    "id": "vtW4CJEe0q1J"
   },
   "source": [
    "### Llamadas"
   ]
  },
  {
   "cell_type": "code",
   "execution_count": 57,
   "metadata": {
    "id": "Jf5v5--k0q1J"
   },
   "outputs": [
    {
     "data": {
      "image/png": "[encoded data removed]",
      "text/plain": [
       "<Figure size 864x432 with 1 Axes>"
      ]
     },
     "metadata": {
      "needs_background": "light"
     },
     "output_type": "display_data"
    }
   ],
   "source": [
    "# Análisis de la duración promedio de llamadas por plan y por mes\n",
    "plt.figure(figsize=(12, 6))\n",
    "sns.lineplot(data=merged_data_full, x='month', y='duration', hue='plan_name', marker='o', estimator='mean')\n",
    "plt.title('Average Call Duration per Plan by Month')\n",
    "plt.xlabel('Month')\n",
    "plt.ylabel('Average Call Duration (minutes)')\n",
    "plt.legend(title='Plan Name')\n",
    "plt.grid(True)\n",
    "plt.show()"
   ]
  },
  {
   "cell_type": "markdown",
   "metadata": {},
   "source": [
    "\n",
    "<div class=\"alert alert-block alert-danger\">\n",
    "\n",
    "<b>Comentario del revisor #5</b> <a class=\"tocSkip\"></a>\n",
    "\n",
    "Cuidado, en este caso no se visualizan los graficos debido a que call_date_x no existe\n",
    "\n",
    "</div>\n",
    "\n",
    "\n",
    "<div class=\"alert alert-block alert-success\">\n",
    "\n",
    "<b>Comentario del revisor #6</b> <a class=\"tocSkip\"></a>\n",
    "\n",
    "Corregido, excelente.\n",
    "</div>"
   ]
  },
  {
   "cell_type": "code",
   "execution_count": 58,
   "metadata": {},
   "outputs": [
    {
     "data": {
      "image/png": "[encoded data removed]",
      "text/plain": [
       "<Figure size 864x432 with 1 Axes>"
      ]
     },
     "metadata": {
      "needs_background": "light"
     },
     "output_type": "display_data"
    }
   ],
   "source": [
    "# Distribución de la duración de las llamadas por plan\n",
    "plt.figure(figsize=(12, 6))\n",
    "sns.boxplot(x='plan_name', y='duration', data=merged_data_full)\n",
    "plt.title('Distribution of Call Duration by Plan')\n",
    "plt.xlabel('Plan Name')\n",
    "plt.ylabel('Call Duration (minutes)')\n",
    "plt.show()"
   ]
  },
  {
   "cell_type": "code",
   "execution_count": 47,
   "metadata": {
    "id": "QoLqW1S_0q1J"
   },
   "outputs": [
    {
     "data": {
      "image/png": "[encoded data removed]",
      "text/plain": [
       "<Figure size 864x432 with 1 Axes>"
      ]
     },
     "metadata": {
      "needs_background": "light"
     },
     "output_type": "display_data"
    }
   ],
   "source": [
    "# Sumar la duración de llamadas por plan y mes\n",
    "monthly_minutes = merged_data_full.groupby(['plan_name', 'month'])['duration'].sum().reset_index()\n",
    "\n",
    "# Crear un gráfico de barras para cada plan\n",
    "plt.figure(figsize=(12, 6))\n",
    "for plan in monthly_minutes['plan_name'].unique():\n",
    "    subset = monthly_minutes[monthly_minutes['plan_name'] == plan]\n",
    "    plt.bar(subset['month'] + (0.4 if plan == 'ultimate' else 0), subset['duration'], width=0.4, label=plan)\n",
    "\n",
    "plt.xlabel('Month')\n",
    "plt.ylabel('Total Minutes Used')\n",
    "plt.title('Monthly Minutes Used by Plan')\n",
    "plt.xticks(ticks=np.arange(1, 13), labels=np.arange(1, 13))  # Asumiendo que los meses están del 1 al 12\n",
    "plt.legend(title='Plan Name')\n",
    "plt.show()\n"
   ]
  },
  {
   "cell_type": "code",
   "execution_count": 48,
   "metadata": {
    "id": "oSndbAnt0q1K"
   },
   "outputs": [
    {
     "name": "stdout",
     "output_type": "stream",
     "text": [
      "Media de duración de llamadas por plan y mes:\n",
      "plan_name  month\n",
      "surf       1        192.840000\n",
      "           2        280.851111\n",
      "           3        310.970000\n",
      "           4        332.380000\n",
      "           5        387.108000\n",
      "           6        411.450625\n",
      "           7        428.060917\n",
      "           8        394.474717\n",
      "           9        397.133298\n",
      "           10       414.435733\n",
      "           11       408.255415\n",
      "           12       457.547074\n",
      "ultimate   1        183.162500\n",
      "           2        443.171667\n",
      "           3        285.701667\n",
      "           4        316.508095\n",
      "           5        383.664828\n",
      "           6        365.358222\n",
      "           7        403.767288\n",
      "           8        397.274789\n",
      "           9        413.287326\n",
      "           10       429.217238\n",
      "           11       423.814683\n",
      "           12       438.824832\n",
      "Name: duration, dtype: float64\n",
      "\n",
      "Varianza de duración de llamadas por plan y mes:\n",
      "plan_name  month\n",
      "surf       1        14795.440200\n",
      "           2        46959.219961\n",
      "           3        31821.317991\n",
      "           4        45615.666796\n",
      "           5        50778.127459\n",
      "           6        39424.054023\n",
      "           7        53364.540232\n",
      "           8        46639.240873\n",
      "           9        39785.302974\n",
      "           10       44103.681803\n",
      "           11       43560.874928\n",
      "           12       53646.781898\n",
      "ultimate   1        14991.369958\n",
      "           2        48579.581537\n",
      "           3        54273.917252\n",
      "           4        31057.727496\n",
      "           5        39290.610940\n",
      "           6        33837.770156\n",
      "           7        64844.426958\n",
      "           8        47680.189425\n",
      "           9        50994.505514\n",
      "           10       47081.623851\n",
      "           11       53273.637319\n",
      "           12       53967.731609\n",
      "Name: duration, dtype: float64\n"
     ]
    }
   ],
   "source": [
    "# Calcular la media y la varianza de la duración mensual de llamadas por plan y mes\n",
    "mean_call_duration = merged_data_full.groupby(['plan_name', 'month'])['duration'].mean()\n",
    "variance_call_duration = merged_data_full.groupby(['plan_name', 'month'])['duration'].var()\n",
    "\n",
    "print(\"Media de duración de llamadas por plan y mes:\")\n",
    "print(mean_call_duration)\n",
    "print(\"\\nVarianza de duración de llamadas por plan y mes:\")\n",
    "print(variance_call_duration)"
   ]
  },
  {
   "cell_type": "code",
   "execution_count": 49,
   "metadata": {
    "id": "nZzoRUKc0q1K"
   },
   "outputs": [
    {
     "data": {
      "image/png": "[encoded data removed]",
      "text/plain": [
       "<Figure size 864x432 with 1 Axes>"
      ]
     },
     "metadata": {
      "needs_background": "light"
     },
     "output_type": "display_data"
    }
   ],
   "source": [
    "plt.figure(figsize=(12, 6))\n",
    "sns.boxplot(data=merged_data_full, x='month', y='duration', hue='plan_name')\n",
    "plt.title('Distribution of Monthly Call Duration by Month and Plan')\n",
    "plt.xlabel('Month')\n",
    "plt.ylabel('Duration (minutes)')\n",
    "plt.legend(title='Plan Name')\n",
    "plt.show()"
   ]
  },
  {
   "cell_type": "markdown",
   "metadata": {
    "id": "r627zBO50q1K"
   },
   "source": [
    "Es necesario analizar las diferencias en la duración promedio de llamadas, el número de minutos mensuales y la distribución de la duración mensual de llamadas entre los usuarios de diferentes planes.\n",
    "Si la duración promedio, el número de minutos mensuales o la distribución de la duración mensual varían significativamente entre los planes, se puede concluir que el comportamiento de los usuarios varía en función del plan."
   ]
  },
  {
   "cell_type": "markdown",
   "metadata": {
    "id": "8idKy8Wh0q1L"
   },
   "source": [
    "### Mensajes"
   ]
  },
  {
   "cell_type": "code",
   "execution_count": 50,
   "metadata": {
    "id": "NXLxiTit0q1L"
   },
   "outputs": [
    {
     "data": {
      "image/png": "[encoded data removed]",
      "text/plain": [
       "<Figure size 1008x504 with 1 Axes>"
      ]
     },
     "metadata": {
      "needs_background": "light"
     },
     "output_type": "display_data"
    }
   ],
   "source": [
    "# Agrupar los datos por plan y mes, y calcular el promedio de mensajes enviados\n",
    "monthly_messages = merged_data_full.groupby(['plan_name', 'month'])['messages_count'].mean().reset_index()\n",
    "\n",
    "# Crear un gráfico de barras para visualizar el número promedio de mensajes por plan y mes\n",
    "plt.figure(figsize=(14, 7))\n",
    "sns.barplot(data=monthly_messages, x='month', y='messages_count', hue='plan_name')\n",
    "plt.title('Average Number of Messages Sent per Month by Plan')\n",
    "plt.xlabel('Month')\n",
    "plt.ylabel('Average Number of Messages')\n",
    "plt.legend(title='Plan Name')\n",
    "plt.grid(True)\n",
    "plt.show()"
   ]
  },
  {
   "cell_type": "code",
   "execution_count": 51,
   "metadata": {
    "id": "GRI_R7xF0q1L"
   },
   "outputs": [
    {
     "data": {
      "image/png": "[encoded data removed]",
      "text/plain": [
       "<Figure size 1008x504 with 1 Axes>"
      ]
     },
     "metadata": {
      "needs_background": "light"
     },
     "output_type": "display_data"
    }
   ],
   "source": [
    "# Agrupar los datos por plan y mes, y calcular la media de MB usados\n",
    "monthly_internet_usage = merged_data_full.groupby(['plan_name', 'month'])['mb_used_total'].mean().reset_index()\n",
    "\n",
    "# Crear un gráfico de barras para visualizar el uso promedio de Internet por plan y mes\n",
    "plt.figure(figsize=(14, 7))\n",
    "sns.barplot(data=monthly_internet_usage, x='month', y='mb_used_total', hue='plan_name')\n",
    "plt.title('Average Internet Usage (MB) per Month by Plan')\n",
    "plt.xlabel('Month')\n",
    "plt.ylabel('Average Internet Usage (MB)')\n",
    "plt.legend(title='Plan Name')\n",
    "plt.grid(True)\n",
    "plt.show()\n"
   ]
  },
  {
   "cell_type": "code",
   "execution_count": 55,
   "metadata": {},
   "outputs": [
    {
     "name": "stdout",
     "output_type": "stream",
     "text": [
      "Media del número de mensajes por plan y mes:\n",
      "plan_name  month\n",
      "surf       1        10.500000\n",
      "           2        12.000000\n",
      "           3        15.260870\n",
      "           4        17.400000\n",
      "           5        24.012987\n",
      "           6        25.298969\n",
      "           7        27.033058\n",
      "           8        28.777778\n",
      "           9        30.762887\n",
      "           10       33.839662\n",
      "           11       32.385159\n",
      "           12       38.600629\n",
      "ultimate   1        15.500000\n",
      "           2        21.571429\n",
      "           3        20.250000\n",
      "           4        22.047619\n",
      "           5        32.103448\n",
      "           6        29.340426\n",
      "           7        32.830508\n",
      "           8        38.478873\n",
      "           9        37.895349\n",
      "           10       39.443396\n",
      "           11       38.606299\n",
      "           12       45.006623\n",
      "Name: messages_count, dtype: float64\n",
      "\n",
      "Varianza del número de mensajes por plan y mes:\n",
      "plan_name  month\n",
      "surf       1         220.500000\n",
      "           2         386.000000\n",
      "           3         346.565217\n",
      "           4         501.591837\n",
      "           5         847.197198\n",
      "           6         914.920103\n",
      "           7         923.915565\n",
      "           8        1029.515528\n",
      "           9        1003.829496\n",
      "           10       1275.465708\n",
      "           11       1065.344034\n",
      "           12       1458.158612\n",
      "ultimate   1         313.666667\n",
      "           2         478.285714\n",
      "           3         654.386364\n",
      "           4         544.147619\n",
      "           5        1297.310345\n",
      "           6         857.620722\n",
      "           7         960.488019\n",
      "           8        1196.367404\n",
      "           9        1050.918331\n",
      "           10       1221.106289\n",
      "           11       1232.669166\n",
      "           12       1549.419956\n",
      "Name: messages_count, dtype: float64\n"
     ]
    }
   ],
   "source": [
    "# Calcular la media y la varianza del número de mensajes por plan y mes\n",
    "mean_messages_count = merged_data_full.groupby(['plan_name', 'month'])['messages_count'].mean()\n",
    "variance_messages_count = merged_data_full.groupby(['plan_name', 'month'])['messages_count'].var()\n",
    "\n",
    "print(\"Media del número de mensajes por plan y mes:\")\n",
    "print(mean_messages_count)\n",
    "print(\"\\nVarianza del número de mensajes por plan y mes:\")\n",
    "print(variance_messages_count)"
   ]
  },
  {
   "cell_type": "code",
   "execution_count": 56,
   "metadata": {
    "id": "dtFwCGAp0q1M"
   },
   "outputs": [
    {
     "data": {
      "image/png": "[encoded data removed]",
      "text/plain": [
       "<Figure size 720x432 with 1 Axes>"
      ]
     },
     "metadata": {
      "needs_background": "light"
     },
     "output_type": "display_data"
    }
   ],
   "source": [
    "# Crear un diagrama de caja para visualizar la distribución del número de mensajes por plan y mes\n",
    "plt.figure(figsize=(10, 6))\n",
    "sns.boxplot(data=merged_data_full, x='month', y='messages_count', hue='plan_name')\n",
    "plt.xlabel('Month')\n",
    "plt.ylabel('Number of Messages')\n",
    "plt.title('Distribution of Monthly Message Count by Plan')\n",
    "plt.xticks(rotation=45)  \n",
    "plt.legend(title='Plan Name')\n",
    "plt.show()"
   ]
  },
  {
   "cell_type": "markdown",
   "metadata": {
    "id": "390SSL480q1M"
   },
   "source": [
    "El análisis de los datos muestra que hay diferencias en el comportamiento de los usuarios con respecto al envío de mensajes dependiendo del plan que tengan. "
   ]
  },
  {
   "cell_type": "code",
   "execution_count": 61,
   "metadata": {},
   "outputs": [],
   "source": [
    "# Calculando el promedio y total de uso de Internet por plan y mes en merged_data_full\n",
    "average_internet_usage = merged_data_full.groupby(['plan_name', 'month'])['mb_used_total'].mean().reset_index()\n",
    "total_internet_traffic = merged_data_full.groupby(['plan_name'])['mb_used_total'].sum().reset_index()"
   ]
  },
  {
   "cell_type": "markdown",
   "metadata": {
    "id": "42YSypXz0q1M"
   },
   "source": [
    "### Internet"
   ]
  },
  {
   "cell_type": "code",
   "execution_count": 62,
   "metadata": {
    "id": "lSuKPtjh0q1M"
   },
   "outputs": [
    {
     "data": {
      "image/png": "[encoded data removed]",
      "text/plain": [
       "<Figure size 720x432 with 1 Axes>"
      ]
     },
     "metadata": {
      "needs_background": "light"
     },
     "output_type": "display_data"
    }
   ],
   "source": [
    "# Histograma del tráfico total de Internet por plan\n",
    "plt.figure(figsize=(10, 6))\n",
    "plt.bar(total_internet_traffic['plan_name'], total_internet_traffic['mb_used_total'], color='skyblue')\n",
    "plt.xlabel('Plan Name')\n",
    "plt.ylabel('Total Internet Traffic Consumed (MB)')\n",
    "plt.title('Histogram of Total Internet Traffic Consumed by Plan')\n",
    "plt.show()"
   ]
  },
  {
   "cell_type": "code",
   "execution_count": 63,
   "metadata": {
    "id": "wnh8jYXi0q1N"
   },
   "outputs": [
    {
     "name": "stdout",
     "output_type": "stream",
     "text": [
      "Mean Internet Usage per Month by Plan:\n",
      "plan_name  month\n",
      "surf       1         4875.000000\n",
      "           2        12179.444444\n",
      "           3        13345.956522\n",
      "           4        11984.660000\n",
      "           5        13936.857143\n",
      "           6        15302.000000\n",
      "           7        16784.090909\n",
      "           8        16795.820988\n",
      "           9        16591.917526\n",
      "           10       17311.831224\n",
      "           11       16339.749117\n",
      "           12       18132.974843\n",
      "ultimate   1         6918.500000\n",
      "           2        17129.142857\n",
      "           3        18322.083333\n",
      "           4        16122.190476\n",
      "           5        16624.965517\n",
      "           6        15338.425532\n",
      "           7        16345.288136\n",
      "           8        17815.225352\n",
      "           9        16970.360465\n",
      "           10       17613.066038\n",
      "           11       17034.188976\n",
      "           12       18323.682119\n",
      "Name: mb_used_total, dtype: float64\n",
      "\n",
      "Variance of Internet Usage per Month by Plan:\n",
      "plan_name  month\n",
      "surf       1        1.824080e+07\n",
      "           2        4.367414e+07\n",
      "           3        6.824491e+07\n",
      "           4        5.904476e+07\n",
      "           5        6.147683e+07\n",
      "           6        4.913321e+07\n",
      "           7        6.468709e+07\n",
      "           8        7.463718e+07\n",
      "           9        5.131634e+07\n",
      "           10       6.252744e+07\n",
      "           11       5.717545e+07\n",
      "           12       7.214759e+07\n",
      "ultimate   1        1.639368e+07\n",
      "           2        3.764711e+07\n",
      "           3        1.403391e+08\n",
      "           4        8.842950e+07\n",
      "           5        5.678839e+07\n",
      "           6        7.201425e+07\n",
      "           7        6.841815e+07\n",
      "           8        6.044722e+07\n",
      "           9        4.933925e+07\n",
      "           10       5.699586e+07\n",
      "           11       5.758939e+07\n",
      "           12       6.188076e+07\n",
      "Name: mb_used_total, dtype: float64\n"
     ]
    }
   ],
   "source": [
    "# Calculando la media y varianza del uso de Internet por plan y mes\n",
    "mean_internet_usage = merged_data_full.groupby(['plan_name', 'month'])['mb_used_total'].mean()\n",
    "variance_internet_usage = merged_data_full.groupby(['plan_name', 'month'])['mb_used_total'].var()\n",
    "print(\"Mean Internet Usage per Month by Plan:\")\n",
    "print(mean_internet_usage)\n",
    "print(\"\\nVariance of Internet Usage per Month by Plan:\")\n",
    "print(variance_internet_usage)"
   ]
  },
  {
   "cell_type": "code",
   "execution_count": 64,
   "metadata": {
    "id": "5VlyJ9ry0q1N"
   },
   "outputs": [
    {
     "data": {
      "image/png": "[encoded data removed]",
      "text/plain": [
       "<Figure size 864x432 with 1 Axes>"
      ]
     },
     "metadata": {
      "needs_background": "light"
     },
     "output_type": "display_data"
    }
   ],
   "source": [
    "# Diagrama de caja del uso de Internet por plan y mes\n",
    "plt.figure(figsize=(12, 6))\n",
    "sns.boxplot(data=merged_data_full, x='month', y='mb_used_total', hue='plan_name')\n",
    "plt.xlabel('Month')\n",
    "plt.ylabel('Internet Traffic Used (MB)')\n",
    "plt.title('Distribution of Monthly Internet Traffic by Plan')\n",
    "plt.xticks(rotation=45)\n",
    "plt.legend(title='Plan Name')\n",
    "plt.show()"
   ]
  },
  {
   "cell_type": "markdown",
   "metadata": {
    "id": "tCijq3260q1N"
   },
   "source": [
    "## Ingreso"
   ]
  },
  {
   "cell_type": "code",
   "execution_count": 65,
   "metadata": {
    "id": "tz-dq_V00q1O"
   },
   "outputs": [
    {
     "data": {
      "image/png": "[encoded data removed]",
      "text/plain": [
       "<Figure size 720x432 with 1 Axes>"
      ]
     },
     "metadata": {
      "needs_background": "light"
     },
     "output_type": "display_data"
    }
   ],
   "source": [
    "# Comparar el número de mensajes enviados por cada plan y por cada mes\n",
    "monthly_messages = merged_data_full.groupby(['plan_name', 'month'])['messages_count'].sum().reset_index()\n",
    "\n",
    "# Histograma del número de mensajes mensuales que necesitan los usuarios de cada plan\n",
    "plt.figure(figsize=(10, 6))\n",
    "sns.barplot(data=monthly_messages, x='plan_name', y='messages_count', estimator=sum, ci=None)\n",
    "plt.xlabel('Plan')\n",
    "plt.ylabel('Total Messages')\n",
    "plt.title('Total Monthly Messages by Plan')\n",
    "plt.show()"
   ]
  },
  {
   "cell_type": "code",
   "execution_count": 66,
   "metadata": {
    "id": "0Y1v8ZUz0q1P"
   },
   "outputs": [
    {
     "name": "stdout",
     "output_type": "stream",
     "text": [
      "Mean Messages Count: plan_name  month\n",
      "surf       1        10.500000\n",
      "           2        12.000000\n",
      "           3        15.260870\n",
      "           4        17.400000\n",
      "           5        24.012987\n",
      "           6        25.298969\n",
      "           7        27.033058\n",
      "           8        28.777778\n",
      "           9        30.762887\n",
      "           10       33.839662\n",
      "           11       32.385159\n",
      "           12       38.600629\n",
      "ultimate   1        15.500000\n",
      "           2        21.571429\n",
      "           3        20.250000\n",
      "           4        22.047619\n",
      "           5        32.103448\n",
      "           6        29.340426\n",
      "           7        32.830508\n",
      "           8        38.478873\n",
      "           9        37.895349\n",
      "           10       39.443396\n",
      "           11       38.606299\n",
      "           12       45.006623\n",
      "Name: messages_count, dtype: float64\n",
      "Variance Messages Count: plan_name  month\n",
      "surf       1         220.500000\n",
      "           2         386.000000\n",
      "           3         346.565217\n",
      "           4         501.591837\n",
      "           5         847.197198\n",
      "           6         914.920103\n",
      "           7         923.915565\n",
      "           8        1029.515528\n",
      "           9        1003.829496\n",
      "           10       1275.465708\n",
      "           11       1065.344034\n",
      "           12       1458.158612\n",
      "ultimate   1         313.666667\n",
      "           2         478.285714\n",
      "           3         654.386364\n",
      "           4         544.147619\n",
      "           5        1297.310345\n",
      "           6         857.620722\n",
      "           7         960.488019\n",
      "           8        1196.367404\n",
      "           9        1050.918331\n",
      "           10       1221.106289\n",
      "           11       1232.669166\n",
      "           12       1549.419956\n",
      "Name: messages_count, dtype: float64\n"
     ]
    }
   ],
   "source": [
    "# Calcula la media y la varianza del número mensual de mensajes para ver el comportamiento de los usuarios\n",
    "mean_messages_count = merged_data_full.groupby(['plan_name', 'month'])['messages_count'].mean()\n",
    "variance_messages_count = merged_data_full.groupby(['plan_name', 'month'])['messages_count'].var()\n",
    "print(\"Mean Messages Count:\", mean_messages_count)\n",
    "print(\"Variance Messages Count:\", variance_messages_count)"
   ]
  },
  {
   "cell_type": "code",
   "execution_count": 68,
   "metadata": {},
   "outputs": [
    {
     "data": {
      "image/png": "[encoded data removed]",
      "text/plain": [
       "<Figure size 720x432 with 1 Axes>"
      ]
     },
     "metadata": {
      "needs_background": "light"
     },
     "output_type": "display_data"
    }
   ],
   "source": [
    "# Diagrama de caja para visualizar la distribución del número mensual de mensajes\n",
    "plt.figure(figsize=(10, 6))\n",
    "sns.boxplot(data=merged_data_full, x='month', y='messages_count', hue='plan_name')\n",
    "plt.xlabel('Month')\n",
    "plt.ylabel('Number of Messages')\n",
    "plt.title('Distribution of Monthly Messages by Plan')\n",
    "plt.xticks(rotation=45)\n",
    "plt.legend(title='Plan Name')\n",
    "plt.show()"
   ]
  },
  {
   "cell_type": "code",
   "execution_count": 69,
   "metadata": {
    "id": "bYmwxyVh0q1P"
   },
   "outputs": [
    {
     "name": "stdout",
     "output_type": "stream",
     "text": [
      "   user_id  month  total_revenue\n",
      "0     1000     12      82.796875\n",
      "1     1001      8      87.431641\n",
      "2     1001      9     149.882812\n",
      "3     1001     10     238.019688\n",
      "4     1001     11     200.566406\n"
     ]
    }
   ],
   "source": [
    "# Calcular los ingresos mensuales por usuario en merged_data_full\n",
    "merged_data_full['total_revenue'] = (\n",
    "    (merged_data_full['calls_count'] - merged_data_full['minutes_included']).clip(lower=0) * merged_data_full['additional_minute_fee_usd'] +\n",
    "    (merged_data_full['messages_count'] - merged_data_full['messages_included']).clip(lower=0) * merged_data_full['additional_message_fee_usd'] +\n",
    "    ((merged_data_full['mb_used_total'] - merged_data_full['mb_per_month_included']).clip(lower=0) / 1024) * merged_data_full['additional_gb_fee_usd'] +\n",
    "    merged_data_full['monthly_fee_usd']\n",
    ")\n",
    "\n",
    "# Imprimir los ingresos totales para verificar\n",
    "print(merged_data_full[['user_id', 'month', 'total_revenue']].head())"
   ]
  },
  {
   "cell_type": "markdown",
   "metadata": {
    "id": "KAFidcXZ0q1P"
   },
   "source": [
    "Para analizar cómo difieren los ingresos entre los planes, primero observamos el comportamiento de los usuarios en relación con los mensajes enviados. Luego, calculamos los ingresos mensuales por usuario.\n",
    "\n",
    "Comportamiento de los Usuarios en los Mensajes:\n",
    "Se comparó el número de mensajes enviados por cada plan y por cada mes.\n",
    "Se observó que los usuarios del plan \"surf\" enviaron 11 mensajes en diciembre de 2018, mientras que los usuarios del plan \"ultimate\" enviaron 30 mensajes en agosto de 2018.\n",
    "Estadísticas del Número Mensual de Mensajes:\n",
    "Se calculó la media y la varianza del número mensual de mensajes para cada plan.\n",
    "No se encontraron valores para la media y la varianza en algunos meses y planes debido a la falta de datos.\n",
    "Ingresos Mensuales por Usuario:\n",
    "Se calculó el ingreso mensual por usuario utilizando una fórmula que considera los servicios adicionales consumidos por encima de los límites incluidos en el plan.\n",
    "Los ingresos mensuales pueden ser negativos para algunos usuarios, lo que podría indicar que no alcanzaron los límites de su plan y, por lo tanto, no generaron ingresos adicionales.\n",
    "En conclusión, el comportamiento de los usuarios varía en función del plan en términos del número de mensajes enviados."
   ]
  },
  {
   "cell_type": "markdown",
   "metadata": {},
   "source": [
    "<div class=\"alert alert-block alert-success\">\n",
    "\n",
    "<b>Comentario del revisor #6</b> <a class=\"tocSkip\"></a>\n",
    "\n",
    "A destacar absolutamente esta parte, excelentes graficos, muy bien llevados con perfectas conclusiones.</div>"
   ]
  },
  {
   "cell_type": "markdown",
   "metadata": {
    "id": "ajJ7VKeI0q1Q"
   },
   "source": [
    "## Prueba las hipótesis estadísticas"
   ]
  },
  {
   "cell_type": "code",
   "execution_count": 71,
   "metadata": {
    "id": "nFoPNlPq0q1R"
   },
   "outputs": [
    {
     "name": "stdout",
     "output_type": "stream",
     "text": [
      "Estadístico t: 2.0295630187367104\n",
      "Valor p: 0.042536215525534486\n",
      "Rechazamos la hipótesis nula.\n"
     ]
    }
   ],
   "source": [
    "# Filtrar los datos para obtener los ingresos de los usuarios de los planes Ultimate y Surf en merged_data_full\n",
    "ultimate_revenue = merged_data_full[merged_data_full['plan_name'] == 'ultimate']['total_revenue'].fillna(0)\n",
    "surf_revenue = merged_data_full[merged_data_full['plan_name'] == 'surf']['total_revenue'].fillna(0)\n",
    "\n",
    "# Realizar la prueba t de muestras independientes\n",
    "t_statistic, p_value = stats.ttest_ind(ultimate_revenue, surf_revenue, equal_var=False)\n",
    "\n",
    "# Imprimir los resultados\n",
    "print(\"Estadístico t:\", t_statistic)\n",
    "print(\"Valor p:\", p_value)\n",
    "\n",
    "# Comprobar si el valor p es menor que el nivel de significancia alfa\n",
    "alpha = 0.05\n",
    "if p_value < alpha:\n",
    "    print(\"Rechazamos la hipótesis nula.\")\n",
    "else:\n",
    "    print(\"No podemos rechazar la hipótesis nula.\")"
   ]
  },
  {
   "cell_type": "markdown",
   "metadata": {
    "id": "bbTR8UQO0q1T"
   },
   "source": [
    "## Conclusión general\n",
    "\n",
    "1. Inicialización y carga de datos\n",
    "Importación de bibliotecas: Se utilizaron pandas para la manipulación de datos, numpy para operaciones numéricas, matplotlib y seaborn para visualización, y scipy para análisis estadístico.\n",
    "Carga de archivos de datos: Se cargaron los conjuntos de datos de usuarios, llamadas, mensajes, internet y planes de tarifas desde archivos CSV, preparándolos para su análisis y manipulación.\n",
    "2. Preparación y corrección de datos\n",
    "Inspección inicial: Se revisaron los DataFrames para entender su estructura y contenido. Esto incluyó verificar tipos de datos, contar valores nulos y duplicados, y examinar muestras de datos.\n",
    "Correcciones aplicadas:\n",
    "Renombramiento de columnas para mantener una nomenclatura consistente y clara.\n",
    "Conversión de columnas clave a categorías y tipos de datos datetime donde fue necesario.\n",
    "Limpieza y separación de columnas compuestas, como la dirección dividida en ciudad y MSA.\n",
    "3. Enriquecimiento de datos\n",
    "Conversión de unidades: Por ejemplo, se convirtieron los megabytes a gigabytes en los planes de datos para alinear con la facturación y el análisis.\n",
    "Cálculo de métricas adicionales: Se calculó la duración de la suscripción y el costo esperado basándose en el uso real.\n",
    "4. Análisis exploratorio\n",
    "Análisis por usuario: Se examinó la distribución de las edades, ciudades y planes suscritos.\n",
    "Análisis de uso de servicios: Se analizó la cantidad de llamadas, duración, mensajes enviados y datos utilizados, diferenciados por plan y mes.\n",
    "5. Integración de datos\n",
    "Fusión de DataFrames: Se combinaron los datos de usuarios, llamadas, mensajes e internet para crear un conjunto de datos unificado, lo que facilitó análisis multidimensionales.\n",
    "6. Análisis estadístico\n",
    "Descripción de comportamientos: Se investigó cómo varían el uso de llamadas, mensajes y datos entre diferentes planes.\n",
    "Visualizaciones: Se utilizaron gráficos de líneas, barras y cajas para visualizar las tendencias y distribuciones en el uso de servicios.\n",
    "7. Cálculo de ingresos\n",
    "Estimación de ingresos: Se desarrolló una función para calcular los ingresos por usuario basándose en el plan y el exceso en el uso de servicios.\n",
    "Comparación de ingresos por plan: Se analizaron y compararon los ingresos generados por los diferentes planes.\n",
    "8. Pruebas de hipótesis\n",
    "Pruebas estadísticas: Se realizaron pruebas t para comparar los ingresos medios entre usuarios de diferentes planes, buscando evidencias estadísticas que apoyen o refuten suposiciones sobre la igualdad de medias.\n",
    "9. Conclusiones\n",
    "Diferencias en el uso y los ingresos por plan: Se confirmaron variaciones significativas en cómo los usuarios de diferentes planes utilizan los servicios y generan ingresos.\n",
    "Validación de estrategias de tarifas: Los resultados apoyan la eficacia de las estrategias de tarificación diferenciada, adaptadas al comportamiento y necesidades de los usuarios."
   ]
  },
  {
   "cell_type": "markdown",
   "metadata": {},
   "source": [
    "<div class=\"alert alert-block alert-danger\">\n",
    "\n",
    "<b>Comentario del revisor #5</b> <a class=\"tocSkip\"></a>\n",
    "\n",
    "Recorda realizar una conclusion general. Esta debe contener todo lo que se hizo en el proyecto de forma enumerada o items.\n",
    "\n",
    "Desde la carga e importacion, pasando por los cambios realizado (Y el porque de esas decisiones). Agregando lo que se hizo en cada seccion a modo resumen y las conclusiones del  trabajo.\n",
    "\n",
    "Sirve como resumen de lo realizado en cada proyecto.</div>\n",
    "\n",
    "<div class=\"alert alert-block alert-success\">\n",
    "\n",
    "<b>Comentario del revisor #6</b> <a class=\"tocSkip\"></a>\n",
    "\n",
    "Corregido, excelente.\n",
    "</div>"
   ]
  },
  {
   "cell_type": "code",
   "execution_count": null,
   "metadata": {},
   "outputs": [],
   "source": []
  }
 ],
 "metadata": {
  "ExecuteTimeLog": [
   {
    "duration": 828,
    "start_time": "2021-11-16T09:21:11.304Z"
   },
   {
    "duration": 893,
    "start_time": "2021-11-16T09:21:17.728Z"
   },
   {
    "duration": 1150,
    "start_time": "2021-11-16T09:21:29.568Z"
   },
   {
    "duration": 3,
    "start_time": "2021-11-16T09:24:14.495Z"
   },
   {
    "duration": 120,
    "start_time": "2021-11-16T09:24:46.630Z"
   },
   {
    "duration": 3,
    "start_time": "2021-11-16T09:28:27.882Z"
   },
   {
    "duration": 4,
    "start_time": "2021-11-16T09:29:54.281Z"
   },
   {
    "duration": 3,
    "start_time": "2021-11-16T09:30:45.936Z"
   },
   {
    "duration": 4,
    "start_time": "2021-11-16T09:31:06.300Z"
   },
   {
    "duration": 113,
    "start_time": "2021-11-16T09:31:37.208Z"
   },
   {
    "duration": 143,
    "start_time": "2021-11-16T09:31:48.656Z"
   },
   {
    "duration": 98,
    "start_time": "2021-11-16T09:31:55.678Z"
   },
   {
    "duration": 3,
    "start_time": "2021-11-16T09:32:08.535Z"
   },
   {
    "duration": 111,
    "start_time": "2021-11-16T09:32:10.120Z"
   },
   {
    "duration": 3,
    "start_time": "2021-11-16T09:32:15.732Z"
   },
   {
    "duration": 4,
    "start_time": "2021-11-16T09:32:29.423Z"
   },
   {
    "duration": 3,
    "start_time": "2021-11-16T10:03:03.074Z"
   },
   {
    "duration": 3,
    "start_time": "2021-11-16T10:10:01.288Z"
   },
   {
    "duration": 3,
    "start_time": "2021-11-16T10:10:46.923Z"
   },
   {
    "duration": 121,
    "start_time": "2021-11-16T10:37:46.494Z"
   },
   {
    "duration": 125,
    "start_time": "2021-11-16T10:38:20.632Z"
   },
   {
    "duration": 112,
    "start_time": "2021-11-16T10:46:53.001Z"
   },
   {
    "duration": 110,
    "start_time": "2021-11-16T10:48:25.775Z"
   },
   {
    "duration": 3,
    "start_time": "2021-11-16T10:50:18.720Z"
   },
   {
    "duration": 4,
    "start_time": "2021-11-16T10:50:37.649Z"
   },
   {
    "duration": 2,
    "start_time": "2021-11-16T10:50:51.884Z"
   },
   {
    "duration": 3,
    "start_time": "2021-11-16T10:51:56.237Z"
   },
   {
    "duration": 101,
    "start_time": "2021-11-16T10:53:13.791Z"
   },
   {
    "duration": 3,
    "start_time": "2021-11-16T10:55:59.186Z"
   },
   {
    "duration": 3,
    "start_time": "2021-11-16T10:56:10.751Z"
   },
   {
    "duration": 3,
    "start_time": "2021-11-16T10:56:49.038Z"
   },
   {
    "duration": 3,
    "start_time": "2021-11-16T10:56:49.174Z"
   },
   {
    "duration": 4,
    "start_time": "2021-11-16T10:56:49.414Z"
   },
   {
    "duration": 3,
    "start_time": "2021-11-16T10:56:49.680Z"
   },
   {
    "duration": 3,
    "start_time": "2021-11-16T10:56:50.370Z"
   },
   {
    "duration": 114,
    "start_time": "2021-11-16T10:59:34.518Z"
   },
   {
    "duration": 3,
    "start_time": "2021-11-16T11:01:41.201Z"
   },
   {
    "duration": 116,
    "start_time": "2021-11-16T11:01:48.754Z"
   },
   {
    "duration": 3,
    "start_time": "2021-11-16T11:02:16.685Z"
   },
   {
    "duration": 3,
    "start_time": "2021-11-16T11:02:19.479Z"
   },
   {
    "duration": 3,
    "start_time": "2021-11-16T11:02:47.067Z"
   },
   {
    "duration": 3,
    "start_time": "2021-11-16T11:02:49.353Z"
   },
   {
    "duration": 3,
    "start_time": "2021-11-16T11:03:07.835Z"
   },
   {
    "duration": 3,
    "start_time": "2021-11-16T11:03:07.953Z"
   },
   {
    "duration": 112,
    "start_time": "2021-11-16T11:07:52.072Z"
   },
   {
    "duration": 187,
    "start_time": "2021-11-16T11:09:23.468Z"
   },
   {
    "duration": 4,
    "start_time": "2021-11-16T11:10:01.455Z"
   },
   {
    "duration": 3,
    "start_time": "2021-11-16T11:10:05.069Z"
   },
   {
    "duration": 4,
    "start_time": "2021-11-16T11:10:13.376Z"
   },
   {
    "duration": 3,
    "start_time": "2021-11-16T11:10:14.434Z"
   },
   {
    "duration": 3,
    "start_time": "2021-11-16T11:10:22.853Z"
   },
   {
    "duration": 4,
    "start_time": "2021-11-16T11:27:29.279Z"
   },
   {
    "duration": 4,
    "start_time": "2021-11-16T11:29:08.919Z"
   },
   {
    "duration": 118,
    "start_time": "2021-11-16T11:29:46.703Z"
   },
   {
    "duration": 437,
    "start_time": "2021-11-16T11:36:02.181Z"
   },
   {
    "duration": 157,
    "start_time": "2021-11-16T11:36:14.388Z"
   },
   {
    "duration": 207,
    "start_time": "2021-11-16T11:47:15.898Z"
   },
   {
    "duration": 3,
    "start_time": "2021-11-16T11:53:52.092Z"
   },
   {
    "duration": 3,
    "start_time": "2021-11-16T11:53:52.236Z"
   },
   {
    "duration": 3,
    "start_time": "2021-11-16T11:59:12.005Z"
   },
   {
    "duration": 112,
    "start_time": "2021-11-16T12:00:33.446Z"
   },
   {
    "duration": 3,
    "start_time": "2021-11-16T12:02:14.453Z"
   },
   {
    "duration": 3,
    "start_time": "2021-11-16T12:02:39.512Z"
   },
   {
    "duration": 106,
    "start_time": "2021-11-16T12:03:03.460Z"
   },
   {
    "duration": 3,
    "start_time": "2021-11-17T20:37:21.139Z"
   },
   {
    "duration": 3,
    "start_time": "2021-11-17T20:37:22.229Z"
   },
   {
    "duration": 3,
    "start_time": "2021-11-17T20:38:38.806Z"
   },
   {
    "duration": 3,
    "start_time": "2021-11-17T20:38:41.958Z"
   },
   {
    "duration": 3,
    "start_time": "2021-11-17T20:43:46.551Z"
   },
   {
    "duration": 4,
    "start_time": "2021-11-17T20:58:21.835Z"
   },
   {
    "duration": 3,
    "start_time": "2021-11-17T20:59:21.872Z"
   },
   {
    "duration": 4,
    "start_time": "2021-11-17T20:59:45.352Z"
   },
   {
    "duration": 4,
    "start_time": "2021-11-17T20:59:49.646Z"
   },
   {
    "duration": 159,
    "start_time": "2021-11-17T21:02:26.949Z"
   },
   {
    "duration": 3,
    "start_time": "2021-11-17T21:03:53.461Z"
   },
   {
    "duration": 3,
    "start_time": "2021-11-17T21:03:53.694Z"
   },
   {
    "duration": 3,
    "start_time": "2021-11-17T21:05:28.145Z"
   },
   {
    "duration": 116,
    "start_time": "2021-11-17T21:05:57.787Z"
   },
   {
    "duration": 3,
    "start_time": "2021-11-17T21:06:37.993Z"
   },
   {
    "duration": 3,
    "start_time": "2021-11-17T21:06:38.261Z"
   },
   {
    "duration": 3,
    "start_time": "2021-11-17T21:11:54.358Z"
   },
   {
    "duration": 3,
    "start_time": "2021-11-17T21:12:43.846Z"
   },
   {
    "duration": 4,
    "start_time": "2021-11-17T21:13:08.773Z"
   },
   {
    "duration": 3,
    "start_time": "2021-11-17T21:14:44.441Z"
   },
   {
    "duration": 3,
    "start_time": "2021-11-17T21:15:42.059Z"
   },
   {
    "duration": 4,
    "start_time": "2021-11-17T21:15:51.995Z"
   },
   {
    "duration": 3,
    "start_time": "2021-11-17T21:15:53.923Z"
   },
   {
    "duration": 3,
    "start_time": "2021-11-17T21:15:55.282Z"
   },
   {
    "duration": 3,
    "start_time": "2021-11-17T21:16:28.492Z"
   },
   {
    "duration": 3,
    "start_time": "2021-11-17T21:16:32.603Z"
   },
   {
    "duration": 3,
    "start_time": "2021-11-17T21:17:06.941Z"
   },
   {
    "duration": 98,
    "start_time": "2021-11-17T21:18:05.733Z"
   },
   {
    "duration": 4,
    "start_time": "2021-11-17T21:21:35.255Z"
   },
   {
    "duration": 3,
    "start_time": "2021-11-17T21:21:37.804Z"
   },
   {
    "duration": 4,
    "start_time": "2021-11-17T21:23:06.071Z"
   },
   {
    "duration": 3,
    "start_time": "2021-11-17T21:23:24.799Z"
   },
   {
    "duration": 3,
    "start_time": "2021-11-17T21:23:32.591Z"
   },
   {
    "duration": 98,
    "start_time": "2021-11-17T21:28:31.559Z"
   },
   {
    "duration": 3,
    "start_time": "2021-11-17T21:28:45.448Z"
   },
   {
    "duration": 3,
    "start_time": "2021-11-17T21:29:17.303Z"
   },
   {
    "duration": 3,
    "start_time": "2021-11-17T21:29:29.617Z"
   },
   {
    "duration": 3,
    "start_time": "2021-11-17T21:29:32.681Z"
   },
   {
    "duration": 3,
    "start_time": "2021-11-17T21:36:11.474Z"
   },
   {
    "duration": 3,
    "start_time": "2021-11-17T21:36:14.791Z"
   },
   {
    "duration": 3,
    "start_time": "2021-11-17T21:36:53.943Z"
   },
   {
    "duration": 3,
    "start_time": "2021-11-17T21:36:56.165Z"
   },
   {
    "duration": 4,
    "start_time": "2021-11-17T21:37:16.590Z"
   },
   {
    "duration": 3,
    "start_time": "2021-11-17T21:37:22.702Z"
   },
   {
    "duration": 4,
    "start_time": "2021-11-17T21:38:03.479Z"
   },
   {
    "duration": 3,
    "start_time": "2021-11-17T21:38:08.601Z"
   },
   {
    "duration": 3,
    "start_time": "2021-11-17T21:38:12.928Z"
   },
   {
    "duration": 3,
    "start_time": "2021-11-17T21:38:48.896Z"
   },
   {
    "duration": 2,
    "start_time": "2021-11-17T21:38:49.171Z"
   },
   {
    "duration": 4,
    "start_time": "2021-11-17T21:39:57.889Z"
   },
   {
    "duration": 3,
    "start_time": "2021-11-17T21:39:58.057Z"
   },
   {
    "duration": 3,
    "start_time": "2021-11-17T21:41:20.108Z"
   },
   {
    "duration": 3,
    "start_time": "2021-11-17T21:41:20.629Z"
   },
   {
    "duration": 3,
    "start_time": "2021-11-17T21:42:49.136Z"
   },
   {
    "duration": 3,
    "start_time": "2021-11-17T21:43:15.137Z"
   },
   {
    "duration": 4,
    "start_time": "2021-11-17T21:43:16.766Z"
   },
   {
    "duration": 4,
    "start_time": "2021-11-17T21:43:31.711Z"
   },
   {
    "duration": 3,
    "start_time": "2021-11-17T21:43:36.312Z"
   },
   {
    "duration": 4,
    "start_time": "2021-11-17T21:45:08.825Z"
   },
   {
    "duration": 4,
    "start_time": "2021-11-17T21:45:10.119Z"
   },
   {
    "duration": 4,
    "start_time": "2021-11-17T21:45:13.748Z"
   },
   {
    "duration": 3,
    "start_time": "2021-11-17T21:45:22.219Z"
   },
   {
    "duration": 3,
    "start_time": "2021-11-17T21:45:33.412Z"
   },
   {
    "duration": 2,
    "start_time": "2021-11-17T21:46:01.885Z"
   },
   {
    "duration": 3,
    "start_time": "2021-11-17T21:46:03.628Z"
   },
   {
    "duration": 107,
    "start_time": "2021-11-17T21:47:32.512Z"
   },
   {
    "duration": 103,
    "start_time": "2021-11-17T21:50:36.243Z"
   },
   {
    "duration": 3,
    "start_time": "2021-11-18T06:28:31.440Z"
   },
   {
    "duration": 3,
    "start_time": "2021-11-18T06:29:00.168Z"
   },
   {
    "duration": 3,
    "start_time": "2021-11-18T06:31:27.008Z"
   },
   {
    "duration": 2,
    "start_time": "2021-11-18T06:35:34.288Z"
   },
   {
    "duration": 2,
    "start_time": "2021-11-18T06:38:04.527Z"
   }
  ],
  "colab": {
   "provenance": []
  },
  "kernelspec": {
   "display_name": "Python 3 (ipykernel)",
   "language": "python",
   "name": "python3"
  },
  "language_info": {
   "codemirror_mode": {
    "name": "ipython",
    "version": 3
   },
   "file_extension": ".py",
   "mimetype": "text/x-python",
   "name": "python",
   "nbconvert_exporter": "python",
   "pygments_lexer": "ipython3",
   "version": "3.9.19"
  },
  "toc": {
   "base_numbering": 1,
   "nav_menu": {},
   "number_sections": true,
   "sideBar": true,
   "skip_h1_title": false,
   "title_cell": "Table of Contents",
   "title_sidebar": "Contents",
   "toc_cell": false,
   "toc_position": {
    "height": "613px",
    "left": "348px",
    "top": "383.125px",
    "width": "165px"
   },
   "toc_section_display": true,
   "toc_window_display": true
  }
 },
 "nbformat": 4,
 "nbformat_minor": 1
}
